{
 "cells": [
  {
   "cell_type": "code",
   "execution_count": 1,
   "metadata": {},
   "outputs": [],
   "source": [
    "import pandas as pd\n",
    "import numpy as np\n",
    "import matplotlib.pyplot as plt\n",
    "plt.style.use(\"seaborn\")"
   ]
  },
  {
   "cell_type": "code",
   "execution_count": 2,
   "metadata": {},
   "outputs": [],
   "source": [
    "df = pd.read_csv(\"B_to_J_Psi_xsec.csv\", delimiter=\",\", dtype=float)"
   ]
  },
  {
   "cell_type": "code",
   "execution_count": 3,
   "metadata": {},
   "outputs": [
    {
     "data": {
      "text/plain": [
       "299975.3310874651"
      ]
     },
     "execution_count": 3,
     "metadata": {},
     "output_type": "execute_result"
    }
   ],
   "source": [
    "np.sum(df[\"xsec(pb)\"])"
   ]
  },
  {
   "cell_type": "code",
   "execution_count": 4,
   "metadata": {},
   "outputs": [
    {
     "data": {
      "text/html": [
       "<div>\n",
       "<style scoped>\n",
       "    .dataframe tbody tr th:only-of-type {\n",
       "        vertical-align: middle;\n",
       "    }\n",
       "\n",
       "    .dataframe tbody tr th {\n",
       "        vertical-align: top;\n",
       "    }\n",
       "\n",
       "    .dataframe thead th {\n",
       "        text-align: right;\n",
       "    }\n",
       "</style>\n",
       "<table border=\"1\" class=\"dataframe\">\n",
       "  <thead>\n",
       "    <tr style=\"text-align: right;\">\n",
       "      <th></th>\n",
       "      <th>Unnamed: 0</th>\n",
       "      <th>ptmin(GeV)</th>\n",
       "      <th>ptmax(GeV)</th>\n",
       "      <th>y</th>\n",
       "      <th>xsec(pb)</th>\n",
       "    </tr>\n",
       "  </thead>\n",
       "  <tbody>\n",
       "    <tr>\n",
       "      <th>0</th>\n",
       "      <td>0.0</td>\n",
       "      <td>2.0</td>\n",
       "      <td>2.5</td>\n",
       "      <td>5.0</td>\n",
       "      <td>9802.0</td>\n",
       "    </tr>\n",
       "    <tr>\n",
       "      <th>1</th>\n",
       "      <td>1.0</td>\n",
       "      <td>2.0</td>\n",
       "      <td>2.5</td>\n",
       "      <td>5.1</td>\n",
       "      <td>8926.0</td>\n",
       "    </tr>\n",
       "    <tr>\n",
       "      <th>2</th>\n",
       "      <td>2.0</td>\n",
       "      <td>2.0</td>\n",
       "      <td>2.5</td>\n",
       "      <td>5.2</td>\n",
       "      <td>8079.5</td>\n",
       "    </tr>\n",
       "    <tr>\n",
       "      <th>3</th>\n",
       "      <td>3.0</td>\n",
       "      <td>2.0</td>\n",
       "      <td>2.5</td>\n",
       "      <td>5.3</td>\n",
       "      <td>7267.5</td>\n",
       "    </tr>\n",
       "    <tr>\n",
       "      <th>4</th>\n",
       "      <td>4.0</td>\n",
       "      <td>2.0</td>\n",
       "      <td>2.5</td>\n",
       "      <td>5.4</td>\n",
       "      <td>6502.0</td>\n",
       "    </tr>\n",
       "    <tr>\n",
       "      <th>...</th>\n",
       "      <td>...</td>\n",
       "      <td>...</td>\n",
       "      <td>...</td>\n",
       "      <td>...</td>\n",
       "      <td>...</td>\n",
       "    </tr>\n",
       "    <tr>\n",
       "      <th>491</th>\n",
       "      <td>491.0</td>\n",
       "      <td>9.5</td>\n",
       "      <td>10.0</td>\n",
       "      <td>7.6</td>\n",
       "      <td>0.0</td>\n",
       "    </tr>\n",
       "    <tr>\n",
       "      <th>492</th>\n",
       "      <td>492.0</td>\n",
       "      <td>9.5</td>\n",
       "      <td>10.0</td>\n",
       "      <td>7.7</td>\n",
       "      <td>0.0</td>\n",
       "    </tr>\n",
       "    <tr>\n",
       "      <th>493</th>\n",
       "      <td>493.0</td>\n",
       "      <td>9.5</td>\n",
       "      <td>10.0</td>\n",
       "      <td>7.8</td>\n",
       "      <td>0.0</td>\n",
       "    </tr>\n",
       "    <tr>\n",
       "      <th>494</th>\n",
       "      <td>494.0</td>\n",
       "      <td>9.5</td>\n",
       "      <td>10.0</td>\n",
       "      <td>7.9</td>\n",
       "      <td>0.0</td>\n",
       "    </tr>\n",
       "    <tr>\n",
       "      <th>495</th>\n",
       "      <td>495.0</td>\n",
       "      <td>9.5</td>\n",
       "      <td>10.0</td>\n",
       "      <td>8.0</td>\n",
       "      <td>0.0</td>\n",
       "    </tr>\n",
       "  </tbody>\n",
       "</table>\n",
       "<p>496 rows × 5 columns</p>\n",
       "</div>"
      ],
      "text/plain": [
       "     Unnamed: 0  ptmin(GeV)  ptmax(GeV)    y  xsec(pb)\n",
       "0           0.0         2.0         2.5  5.0    9802.0\n",
       "1           1.0         2.0         2.5  5.1    8926.0\n",
       "2           2.0         2.0         2.5  5.2    8079.5\n",
       "3           3.0         2.0         2.5  5.3    7267.5\n",
       "4           4.0         2.0         2.5  5.4    6502.0\n",
       "..          ...         ...         ...  ...       ...\n",
       "491       491.0         9.5        10.0  7.6       0.0\n",
       "492       492.0         9.5        10.0  7.7       0.0\n",
       "493       493.0         9.5        10.0  7.8       0.0\n",
       "494       494.0         9.5        10.0  7.9       0.0\n",
       "495       495.0         9.5        10.0  8.0       0.0\n",
       "\n",
       "[496 rows x 5 columns]"
      ]
     },
     "execution_count": 4,
     "metadata": {},
     "output_type": "execute_result"
    }
   ],
   "source": [
    "df"
   ]
  },
  {
   "cell_type": "code",
   "execution_count": 5,
   "metadata": {},
   "outputs": [
    {
     "data": {
      "image/png": "[encoded data removed]",
      "text/plain": [
       "<Figure size 576x396 with 1 Axes>"
      ]
     },
     "metadata": {},
     "output_type": "display_data"
    }
   ],
   "source": [
    "x = 0.5*(df[df[\"y\"]==5][\"ptmin(GeV)\"] + df[df[\"y\"]==5][\"ptmax(GeV)\"])\n",
    "y = df[df[\"y\"]==5][\"xsec(pb)\"]\n",
    "plt.plot(x,y, \"bo\")\n",
    "plt.yscale(\"log\")"
   ]
  },
  {
   "cell_type": "code",
   "execution_count": 6,
   "metadata": {},
   "outputs": [],
   "source": [
    "data = []\n",
    "m = 1.869 # GeV (D0 Mass) \n",
    "\n",
    "dy = df.iloc[:,2][1] - df.iloc[:,2][0]\n",
    "\n",
    "for row in df.values:\n",
    "    \n",
    "    pt_min = row[0]\n",
    "    pt_max = row[1]\n",
    "    y      = row[2]\n",
    "    \n",
    "    y_min  = y - 0.5 * dy\n",
    "    y_max  = y + 0.5 * dy\n",
    "    xsec   = row[3]\n",
    "    \n",
    "    pz_min     = (pt_min**2 + m**2)**0.5 * np.sinh(y_min)\n",
    "    pz_max     = (pt_max**2 + m**2)**0.5 * np.sinh(y_max)\n",
    "    \n",
    "    p_min      = (pt_min**2 + pz_min**2)**0.5\n",
    "    theta_min  = np.arctan(pt_min/pz_min)\n",
    "    feyn_x_min = 2*pz_max/13000\n",
    "    \n",
    "    p_max      = (pt_max**2 + pz_max**2)**0.5\n",
    "    theta_max  = np.arctan(pt_max/pz_max)\n",
    "    feyn_x_max = 2*pz_max/13000\n",
    "    \n",
    "    if feyn_x_min<1 and feyn_x_max<1:\n",
    "        data.append(np.array([theta_min, theta_max, p_min, p_max, xsec]))"
   ]
  },
  {
   "cell_type": "code",
   "execution_count": 7,
   "metadata": {
    "scrolled": false
   },
   "outputs": [],
   "source": [
    "np.savetxt(\"J_Psi.txt\", data, delimiter=\",\",fmt=\"%.3e\", \n",
    "           header=\"\\\n",
    "FONLL heavy quark hadroproduction cross section\\n\\\n",
    "ebeam1 = 6500, ebeam2 = 6500\\n\\\n",
    "PDF set = CTEQ6.6\\n\\\n",
    "charm to D0 meson\\n\\\n",
    "theta_min, theta_max, p_min[GeV], p_max[GeV], xsec[pb]\")"
   ]
  },
  {
   "cell_type": "code",
   "execution_count": 8,
   "metadata": {},
   "outputs": [],
   "source": [
    "df = pd.read_csv(\"J_Psi.txt\", delimiter=\",\", dtype=float, header=4)"
   ]
  },
  {
   "cell_type": "code",
   "execution_count": 9,
   "metadata": {},
   "outputs": [
    {
     "data": {
      "text/plain": [
       "2015.0"
      ]
     },
     "execution_count": 9,
     "metadata": {},
     "output_type": "execute_result"
    }
   ],
   "source": [
    "np.sum(df[\" xsec[pb]\"])"
   ]
  },
  {
   "cell_type": "code",
   "execution_count": null,
   "metadata": {},
   "outputs": [],
   "source": []
  }
 ],
 "metadata": {
  "kernelspec": {
   "display_name": "Python 3",
   "language": "python",
   "name": "python3"
  },
  "language_info": {
   "codemirror_mode": {
    "name": "ipython",
    "version": 3
   },
   "file_extension": ".py",
   "mimetype": "text/x-python",
   "name": "python",
   "nbconvert_exporter": "python",
   "pygments_lexer": "ipython3",
   "version": "3.9.0"
  }
 },
 "nbformat": 4,
 "nbformat_minor": 4
}
