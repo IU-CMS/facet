{
 "cells": [
  {
   "cell_type": "code",
   "execution_count": 1,
   "metadata": {},
   "outputs": [
    {
     "name": "stdout",
     "output_type": "stream",
     "text": [
      "Welcome to JupyROOT 6.22/05\n"
     ]
    }
   ],
   "source": [
    "import ROOT\n",
    "import numpy as np\n",
    "import pandas as pd\n",
    "from itertools import product\n",
    "import matplotlib.pyplot as plt\n",
    "from tqdm import tqdm\n",
    "\n",
    "from scipy.interpolate import interp1d\n",
    "\n",
    "ROOT.ROOT.EnableImplicitMT(8)"
   ]
  },
  {
   "cell_type": "code",
   "execution_count": 2,
   "metadata": {},
   "outputs": [],
   "source": [
    "def decay_mother(mother, daugther1_mass, daugther2_mass):\n",
    "\n",
    "    event  = ROOT.TGenPhaseSpace()\n",
    "    masses = np.array([daugther1_mass, daugther2_mass], dtype='float64')\n",
    "\n",
    "    mother = ROOT.TLorentzVector(mother.X(), mother.Y(), mother.Z(), mother.T())\n",
    "    event.SetDecay(mother, 2, masses)\n",
    "\n",
    "    weight = event.Generate()\n",
    "    daugther1  = event.GetDecay(0)\n",
    "    daugther2  = event.GetDecay(1)\n",
    "\n",
    "    return mother, daugther1, daugther2\n",
    "\n",
    "def get_prob(tree_reader, i_event, epsilon, ad_mass, daugther2_mass, br):\n",
    "    treeReader.SetEntry(i_event)\n",
    "\n",
    "    mother, ad, gamma = decay_mother(branch, ad_mass, 0)\n",
    "\n",
    "    decay_length = 80 * br * (1e-5/epsilon)**2 * (ad.E()/1e+3) * (100/(ad_mass*1e+3))**2 # https://arxiv.org/pdf/1708.09389.pdf - page 6\n",
    "\n",
    "    L1 = 96\n",
    "    L2 = 116\n",
    "\n",
    "    prob = ROOT.TMath.Exp(-L1/decay_length)-ROOT.TMath.Exp(-L2/decay_length)\n",
    "\n",
    "    return mother, ad, prob\n",
    "\n",
    "ad2ee_pair_br = np.genfromtxt('ad2ee_pair_br.csv', delimiter=',').T\n",
    "br_e          = interp1d(ad2ee_pair_br[0], ad2ee_pair_br[1], kind='cubic')"
   ]
  },
  {
   "cell_type": "code",
   "execution_count": 3,
   "metadata": {},
   "outputs": [],
   "source": [
    "ROOT.gSystem.Load(\"libPhysics.so\")\n",
    "ROOT.gRandom.SetSeed(123)\n",
    "aD_p4 = ROOT.TLorentzVector(0., 0., 0., 0.)"
   ]
  },
  {
   "cell_type": "code",
   "execution_count": 4,
   "metadata": {},
   "outputs": [
    {
     "name": "stdout",
     "output_type": "stream",
     "text": [
      "[1.e-07 5.e-07 1.e-06 5.e-06 1.e-05 5.e-05 1.e-04 5.e-04 1.e-03 5.e-03\n",
      " 1.e-02 5.e-02 1.e-01] [0.01   0.0175 0.025  0.0325 0.04   0.0475 0.055  0.0625 0.07   0.0775\n",
      " 0.085  0.0925 0.1   ]\n"
     ]
    }
   ],
   "source": [
    "# set input parameters and scan ranges\n",
    "det_radius_in  = 0.125\n",
    "det_radius_out = 0.500\n",
    "epsilon_range = np.array([1.0e-7, 5.0e-7, 1.0e-6, 5.0e-6, 1.0e-5, 5.0e-5, 1.0e-4, 5.0e-4, 1.0e-3, 5.0e-3, \n",
    "                          1.0e-2, 5.0e-2, 1.0e-1])\n",
    "\n",
    "hadron_mass = 135.0e-3\n",
    "ad_mass_range = np.linspace(10, 100, len(epsilon_range))\n",
    "ad_mass_range = 1.0e-3*ad_mass_range\n",
    "print(epsilon_range, ad_mass_range)\n",
    "\n",
    "lumi = 300.0e+15 # 300fb^-1\n",
    "n_generated = 1e+6/1"
   ]
  },
  {
   "cell_type": "code",
   "execution_count": 5,
   "metadata": {},
   "outputs": [],
   "source": [
    "df = pd.DataFrame(columns=['epsilon','mass', 'n_expected'])"
   ]
  },
  {
   "cell_type": "code",
   "execution_count": 6,
   "metadata": {
    "scrolled": true
   },
   "outputs": [
    {
     "name": "stdout",
     "output_type": "stream",
     "text": [
      "running for eps=1.00E-07  ad_mass=1.00E-02\n",
      "inputfile:pythia8/pTHat_scan/pyt8_10MEvt_13TeVpp_J_Psy_4Vec_pTHat_1000_1500_crx_7.69E-04_pb.root\n"
     ]
    },
    {
     "name": "stderr",
     "output_type": "stream",
     "text": [
      "  0%|          | 0/100 [00:00<?, ?it/s]\n"
     ]
    },
    {
     "ename": "ReferenceError",
     "evalue": "attempt to access a null-pointer",
     "output_type": "error",
     "traceback": [
      "\u001b[0;31m---------------------------------------------------------------------------\u001b[0m",
      "\u001b[0;31mReferenceError\u001b[0m                            Traceback (most recent call last)",
      "\u001b[0;32m<ipython-input-6-24062211d555>\u001b[0m in \u001b[0;36m<module>\u001b[0;34m\u001b[0m\n\u001b[1;32m     48\u001b[0m             \u001b[0;32mfor\u001b[0m \u001b[0mi_event\u001b[0m \u001b[0;32min\u001b[0m \u001b[0mtqdm\u001b[0m\u001b[0;34m(\u001b[0m\u001b[0mrange\u001b[0m\u001b[0;34m(\u001b[0m\u001b[0mint\u001b[0m\u001b[0;34m(\u001b[0m\u001b[0;36m100\u001b[0m\u001b[0;34m)\u001b[0m\u001b[0;34m)\u001b[0m\u001b[0;34m)\u001b[0m\u001b[0;34m:\u001b[0m\u001b[0;34m\u001b[0m\u001b[0;34m\u001b[0m\u001b[0m\n\u001b[1;32m     49\u001b[0m \u001b[0;34m\u001b[0m\u001b[0m\n\u001b[0;32m---> 50\u001b[0;31m                 \u001b[0mmother\u001b[0m\u001b[0;34m,\u001b[0m \u001b[0mad\u001b[0m\u001b[0;34m,\u001b[0m \u001b[0mprob\u001b[0m \u001b[0;34m=\u001b[0m \u001b[0mget_prob\u001b[0m\u001b[0;34m(\u001b[0m\u001b[0mtreeReader\u001b[0m\u001b[0;34m,\u001b[0m \u001b[0mi_event\u001b[0m\u001b[0;34m,\u001b[0m \u001b[0mepsilon\u001b[0m\u001b[0;34m,\u001b[0m \u001b[0mad_mass\u001b[0m\u001b[0;34m,\u001b[0m \u001b[0;36m0.000\u001b[0m\u001b[0;34m,\u001b[0m \u001b[0mbr_e\u001b[0m\u001b[0;34m(\u001b[0m\u001b[0mad_mass\u001b[0m\u001b[0;34m)\u001b[0m\u001b[0;34m)\u001b[0m\u001b[0;34m\u001b[0m\u001b[0;34m\u001b[0m\u001b[0m\n\u001b[0m\u001b[1;32m     51\u001b[0m \u001b[0;34m\u001b[0m\u001b[0m\n\u001b[1;32m     52\u001b[0m                 \u001b[0;32mif\u001b[0m \u001b[0mad\u001b[0m\u001b[0;34m.\u001b[0m\u001b[0mRapidity\u001b[0m\u001b[0;34m(\u001b[0m\u001b[0;34m)\u001b[0m \u001b[0;34m>\u001b[0m \u001b[0;36m6.22\u001b[0m \u001b[0;32mand\u001b[0m \u001b[0mad\u001b[0m\u001b[0;34m.\u001b[0m\u001b[0mRapidity\u001b[0m\u001b[0;34m(\u001b[0m\u001b[0;34m)\u001b[0m \u001b[0;34m<\u001b[0m \u001b[0;36m7.61\u001b[0m\u001b[0;34m:\u001b[0m\u001b[0;34m\u001b[0m\u001b[0;34m\u001b[0m\u001b[0m\n",
      "\u001b[0;32m<ipython-input-2-21516747fa89>\u001b[0m in \u001b[0;36mget_prob\u001b[0;34m(tree_reader, i_event, epsilon, ad_mass, daugther2_mass, br)\u001b[0m\n\u001b[1;32m     16\u001b[0m     \u001b[0mtreeReader\u001b[0m\u001b[0;34m.\u001b[0m\u001b[0mSetEntry\u001b[0m\u001b[0;34m(\u001b[0m\u001b[0mi_event\u001b[0m\u001b[0;34m)\u001b[0m\u001b[0;34m\u001b[0m\u001b[0;34m\u001b[0m\u001b[0m\n\u001b[1;32m     17\u001b[0m \u001b[0;34m\u001b[0m\u001b[0m\n\u001b[0;32m---> 18\u001b[0;31m     \u001b[0mmother\u001b[0m\u001b[0;34m,\u001b[0m \u001b[0mad\u001b[0m\u001b[0;34m,\u001b[0m \u001b[0mgamma\u001b[0m \u001b[0;34m=\u001b[0m \u001b[0mdecay_mother\u001b[0m\u001b[0;34m(\u001b[0m\u001b[0mbranch\u001b[0m\u001b[0;34m,\u001b[0m \u001b[0mad_mass\u001b[0m\u001b[0;34m,\u001b[0m \u001b[0;36m0\u001b[0m\u001b[0;34m)\u001b[0m\u001b[0;34m\u001b[0m\u001b[0;34m\u001b[0m\u001b[0m\n\u001b[0m\u001b[1;32m     19\u001b[0m \u001b[0;34m\u001b[0m\u001b[0m\n\u001b[1;32m     20\u001b[0m     \u001b[0mdecay_length\u001b[0m \u001b[0;34m=\u001b[0m \u001b[0;36m80\u001b[0m \u001b[0;34m*\u001b[0m \u001b[0mbr\u001b[0m \u001b[0;34m*\u001b[0m \u001b[0;34m(\u001b[0m\u001b[0;36m1e-5\u001b[0m\u001b[0;34m/\u001b[0m\u001b[0mepsilon\u001b[0m\u001b[0;34m)\u001b[0m\u001b[0;34m**\u001b[0m\u001b[0;36m2\u001b[0m \u001b[0;34m*\u001b[0m \u001b[0;34m(\u001b[0m\u001b[0mad\u001b[0m\u001b[0;34m.\u001b[0m\u001b[0mE\u001b[0m\u001b[0;34m(\u001b[0m\u001b[0;34m)\u001b[0m\u001b[0;34m/\u001b[0m\u001b[0;36m1e+3\u001b[0m\u001b[0;34m)\u001b[0m \u001b[0;34m*\u001b[0m \u001b[0;34m(\u001b[0m\u001b[0;36m100\u001b[0m\u001b[0;34m/\u001b[0m\u001b[0;34m(\u001b[0m\u001b[0mad_mass\u001b[0m\u001b[0;34m*\u001b[0m\u001b[0;36m1e+3\u001b[0m\u001b[0;34m)\u001b[0m\u001b[0;34m)\u001b[0m\u001b[0;34m**\u001b[0m\u001b[0;36m2\u001b[0m \u001b[0;31m# https://arxiv.org/pdf/1708.09389.pdf - page 6\u001b[0m\u001b[0;34m\u001b[0m\u001b[0;34m\u001b[0m\u001b[0m\n",
      "\u001b[0;32m<ipython-input-2-21516747fa89>\u001b[0m in \u001b[0;36mdecay_mother\u001b[0;34m(mother, daugther1_mass, daugther2_mass)\u001b[0m\n\u001b[1;32m      4\u001b[0m     \u001b[0mmasses\u001b[0m \u001b[0;34m=\u001b[0m \u001b[0mnp\u001b[0m\u001b[0;34m.\u001b[0m\u001b[0marray\u001b[0m\u001b[0;34m(\u001b[0m\u001b[0;34m[\u001b[0m\u001b[0mdaugther1_mass\u001b[0m\u001b[0;34m,\u001b[0m \u001b[0mdaugther2_mass\u001b[0m\u001b[0;34m]\u001b[0m\u001b[0;34m,\u001b[0m \u001b[0mdtype\u001b[0m\u001b[0;34m=\u001b[0m\u001b[0;34m'float64'\u001b[0m\u001b[0;34m)\u001b[0m\u001b[0;34m\u001b[0m\u001b[0;34m\u001b[0m\u001b[0m\n\u001b[1;32m      5\u001b[0m \u001b[0;34m\u001b[0m\u001b[0m\n\u001b[0;32m----> 6\u001b[0;31m     \u001b[0mmother\u001b[0m \u001b[0;34m=\u001b[0m \u001b[0mROOT\u001b[0m\u001b[0;34m.\u001b[0m\u001b[0mTLorentzVector\u001b[0m\u001b[0;34m(\u001b[0m\u001b[0mmother\u001b[0m\u001b[0;34m.\u001b[0m\u001b[0mX\u001b[0m\u001b[0;34m(\u001b[0m\u001b[0;34m)\u001b[0m\u001b[0;34m,\u001b[0m \u001b[0mmother\u001b[0m\u001b[0;34m.\u001b[0m\u001b[0mY\u001b[0m\u001b[0;34m(\u001b[0m\u001b[0;34m)\u001b[0m\u001b[0;34m,\u001b[0m \u001b[0mmother\u001b[0m\u001b[0;34m.\u001b[0m\u001b[0mZ\u001b[0m\u001b[0;34m(\u001b[0m\u001b[0;34m)\u001b[0m\u001b[0;34m,\u001b[0m \u001b[0mmother\u001b[0m\u001b[0;34m.\u001b[0m\u001b[0mT\u001b[0m\u001b[0;34m(\u001b[0m\u001b[0;34m)\u001b[0m\u001b[0;34m)\u001b[0m\u001b[0;34m\u001b[0m\u001b[0;34m\u001b[0m\u001b[0m\n\u001b[0m\u001b[1;32m      7\u001b[0m     \u001b[0mevent\u001b[0m\u001b[0;34m.\u001b[0m\u001b[0mSetDecay\u001b[0m\u001b[0;34m(\u001b[0m\u001b[0mmother\u001b[0m\u001b[0;34m,\u001b[0m \u001b[0;36m2\u001b[0m\u001b[0;34m,\u001b[0m \u001b[0mmasses\u001b[0m\u001b[0;34m)\u001b[0m\u001b[0;34m\u001b[0m\u001b[0;34m\u001b[0m\u001b[0m\n\u001b[1;32m      8\u001b[0m \u001b[0;34m\u001b[0m\u001b[0m\n",
      "\u001b[0;31mReferenceError\u001b[0m: attempt to access a null-pointer"
     ]
    },
    {
     "name": "stderr",
     "output_type": "stream",
     "text": [
      "Error in <TTreeReaderValue::Get()>: Value reader not properly initialized, did you remember to call TTreeReader.Set(Next)Entry()?\n"
     ]
    }
   ],
   "source": [
    "path_name        =  \"pythia8/pTHat_scan/\"\n",
    "input_file_names = [\"pyt8_10MEvt_13TeVpp_J_Psy_4Vec_pTHat_1000_1500_crx_7.69E-04_pb.root\",\n",
    "                    \"pyt8_10MEvt_13TeVpp_J_Psy_4Vec_pTHat_0_10_crx_1.17E+09_pb.root\",\n",
    "                    \"pyt8_10MEvt_13TeVpp_J_Psy_4Vec_pTHat_100_200_crx_2.23E+02_pb.root\",\n",
    "                    \"pyt8_10MEvt_13TeVpp_J_Psy_4Vec_pTHat_10_30_crx_2.80E+06_pb.root\",\n",
    "                    \"pyt8_10MEvt_13TeVpp_J_Psy_4Vec_pTHat_1500_2000_crx_3.03E-05_pb.root\",\n",
    "                    \"pyt8_10MEvt_13TeVpp_J_Psy_4Vec_pTHat_2000_-1_crx_1.96E-06_pb.root\",\n",
    "                    \"pyt8_10MEvt_13TeVpp_J_Psy_4Vec_pTHat_200_400_crx_8.65E+00_pb.root\",\n",
    "                    \"pyt8_10MEvt_13TeVpp_J_Psy_4Vec_pTHat_30_50_crx_3.39E+04_pb.root\",\n",
    "                    \"pyt8_10MEvt_13TeVpp_J_Psy_4Vec_pTHat_400_700_crx_2.33E-01_pb.root\",\n",
    "                    \"pyt8_10MEvt_13TeVpp_J_Psy_4Vec_pTHat_50_100_crx_4.51E+03_pb.root\",\n",
    "                    \"pyt8_10MEvt_13TeVpp_J_Psy_4Vec_pTHat_700_1000_crx_8.06E-03_pb.root\",\n",
    "                    \"pyt8_10MEvt_13TeVpp_Upsilon_4Vec_pTHat_0_10_crx_1.17E+09_pb.root\",\n",
    "                    \"pyt8_10MEvt_13TeVpp_Upsilon_4Vec_pTHat_1000_1500_crx_7.69E-04_pb.root\",\n",
    "                    \"pyt8_10MEvt_13TeVpp_Upsilon_4Vec_pTHat_100_200_crx_2.23E+02_pb.root\",\n",
    "                    \"pyt8_10MEvt_13TeVpp_Upsilon_4Vec_pTHat_10_30_crx_2.80E+06_pb.root\",\n",
    "                    \"pyt8_10MEvt_13TeVpp_Upsilon_4Vec_pTHat_1500_2000_crx_3.03E-05_pb.root\",\n",
    "                    \"pyt8_10MEvt_13TeVpp_Upsilon_4Vec_pTHat_2000_-1_crx_1.96E-06_pb.root\",\n",
    "                    \"pyt8_10MEvt_13TeVpp_Upsilon_4Vec_pTHat_200_400_crx_8.65E+00_pb.root\",\n",
    "                    \"pyt8_10MEvt_13TeVpp_Upsilon_4Vec_pTHat_30_50_crx_3.39E+04_pb.root\",\n",
    "                    \"pyt8_10MEvt_13TeVpp_Upsilon_4Vec_pTHat_400_700_crx_2.33E-01_pb.root\",\n",
    "                    \"pyt8_10MEvt_13TeVpp_Upsilon_4Vec_pTHat_50_100_crx_4.51E+03_pb.root\",\n",
    "                    \"pyt8_10MEvt_13TeVpp_Upsilon_4Vec_pTHat_700_1000_crx_8.06E-03_pb.root\"]\n",
    "\n",
    "x_secs = [1.17E+09, 7.69E-04, 2.23E+02, 2.80E+06, 3.03E-05, 1.96E-06, 8.65E+00, \n",
    "          3.39E+04, 2.33E-01, 4.51E+03, 8.06E-03, 1.17E+09, 7.69E-04, 2.23E+02, \n",
    "          2.80E+06, 3.03E-05, 1.96E-06, 8.65E+00, 3.39E+04, 2.33E-01, 4.51E+03, 8.06E-03]\n",
    "\n",
    "\n",
    "for ad_mass in ad_mass_range:\n",
    "    \n",
    "    for epsilon in epsilon_range:\n",
    "         \n",
    "        n_events = 0.0\n",
    "        \n",
    "        for input_file_name, pp2hadron_xsec in zip(input_file_names, x_secs):\n",
    "\n",
    "            print(\"running for eps=%.2E  ad_mass=%.2E\" %(epsilon, ad_mass))\n",
    "            print(\"inputfile:%s\" %(path_name+input_file_name))\n",
    "            \n",
    "            file       = ROOT.TFile.Open(path_name+input_file_name)\n",
    "            treeReader = ROOT.TTreeReader(\"tree\", file)\n",
    "            branch     = ROOT.TTreeReaderValue(ROOT.TLorentzVector)(treeReader, \"J_Psy_p4\")\n",
    "            n_entries  = treeReader.GetEntries(1)\n",
    "            \n",
    "            br_hadron2adgamma = 2 * epsilon**2 * (1-(ad_mass/hadron_mass)**2)**3\n",
    "            \n",
    "            for i_event in tqdm(range(int(100))):\n",
    "                \n",
    "                mother, ad, prob = get_prob(treeReader, i_event, epsilon, ad_mass, 0.000, br_e(ad_mass))\n",
    "                \n",
    "                if ad.Rapidity() > 6.22 and ad.Rapidity() < 7.61:\n",
    "                    n_events += (lumi) * (pp2hadron_xsec)* (1/n_generated) * br_hadron2adgamma * prob\n",
    "                    #print(\"n_expected\", n_events)\n",
    "            \n",
    "            del treeReader, branch\n",
    "            \n",
    "        df = df.append(pd.Series([epsilon, ad_mass, n_events], index=df.columns), ignore_index=True)\n",
    "\n",
    "df.to_csv('jpsi_prompt2ad.csv')"
   ]
  },
  {
   "cell_type": "code",
   "execution_count": null,
   "metadata": {},
   "outputs": [],
   "source": []
  }
 ],
 "metadata": {
  "kernelspec": {
   "display_name": "Python 3",
   "language": "python",
   "name": "python3"
  },
  "language_info": {
   "codemirror_mode": {
    "name": "ipython",
    "version": 3
   },
   "file_extension": ".py",
   "mimetype": "text/x-python",
   "name": "python",
   "nbconvert_exporter": "python",
   "pygments_lexer": "ipython3",
   "version": "3.9.0"
  }
 },
 "nbformat": 4,
 "nbformat_minor": 4
}
