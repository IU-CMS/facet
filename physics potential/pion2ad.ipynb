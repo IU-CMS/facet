{
 "cells": [
  {
   "cell_type": "code",
   "execution_count": 3,
   "metadata": {},
   "outputs": [],
   "source": [
    "import ROOT\n",
    "import numpy as np\n",
    "import pandas as pd\n",
    "from itertools import product\n",
    "import matplotlib.pyplot as plt\n",
    "from tqdm import tqdm\n",
    "\n",
    "from scipy.interpolate import interp1d\n",
    "\n",
    "ROOT.ROOT.EnableImplicitMT(8)"
   ]
  },
  {
   "cell_type": "code",
   "execution_count": 11,
   "metadata": {},
   "outputs": [],
   "source": [
    "def decay_mother(mother, daugther1_mass, daugther2_mass):\n",
    "\n",
    "    event  = ROOT.TGenPhaseSpace()\n",
    "    masses = np.array([daugther1_mass, daugther2_mass], dtype='float64')\n",
    "\n",
    "    mother = ROOT.TLorentzVector(mother.X(), mother.Y(), mother.Z(), mother.T())\n",
    "    event.SetDecay(mother, 2, masses)\n",
    "\n",
    "    weight = event.Generate()\n",
    "    daugther1  = event.GetDecay(0)\n",
    "    daugther2  = event.GetDecay(1)\n",
    "\n",
    "    return mother, daugther1, daugther2\n",
    "\n",
    "def get_prob(tree_reader, i_event, epsilon, ad_mass, daugther2_mass, br):\n",
    "    treeReader.SetEntry(i_event)\n",
    "\n",
    "    mother, ad, gamma = decay_mother(pi0_p4, ad_mass, 0)\n",
    "\n",
    "    decay_length = 80 * br * (1e-5/epsilon)**2 * (ad.E()/1e+3) * (100/(ad_mass*1e+3))**2 # https://arxiv.org/pdf/1708.09389.pdf - page 6\n",
    "\n",
    "    L1 = 96\n",
    "    L2 = 116\n",
    "\n",
    "    prob = ROOT.TMath.Exp(-L1/decay_length)-ROOT.TMath.Exp(-L2/decay_length)\n",
    "\n",
    "    return mother, ad, prob\n",
    "\n",
    "ad2ee_pair_br = np.genfromtxt('ad2ee_pair_br.csv', delimiter=',').T\n",
    "br_e          = interp1d(ad2ee_pair_br[0], ad2ee_pair_br[1], kind='cubic')"
   ]
  },
  {
   "cell_type": "code",
   "execution_count": 3,
   "metadata": {},
   "outputs": [
    {
     "name": "stdout",
     "output_type": "stream",
     "text": [
      "[1.e-07 5.e-07 1.e-06 5.e-06 1.e-05 5.e-05 1.e-04 5.e-04 1.e-03 5.e-03\n",
      " 1.e-02 5.e-02 1.e-01] [0.01   0.0175 0.025  0.0325 0.04   0.0475 0.055  0.0625 0.07   0.0775\n",
      " 0.085  0.0925 0.1   ]\n"
     ]
    }
   ],
   "source": [
    "ROOT.gSystem.Load(\"libPhysics.so\")\n",
    "\n",
    "det_radius_in  = 0.125\n",
    "det_radius_out = 0.500\n",
    "\n",
    "ROOT.gRandom.SetSeed(123)\n",
    "\n",
    "aD_p4 = ROOT.TLorentzVector(0., 0., 0., 0.)\n",
    "\n",
    "file = ROOT.TFile.Open(\"data_14TeVpp_pi0.root\")\n",
    "\n",
    "treeReader = ROOT.TTreeReader(\"tree\", file)\n",
    "pi0_p4 = ROOT.TTreeReaderValue(ROOT.TLorentzVector)(treeReader, \"pi0_p4\")\n",
    "\n",
    "n_entries = treeReader.GetEntries(1)\n",
    "\n",
    "pion_mass = 135.0e-3\n",
    "epsilon_range = np.array([1.0e-7, 5.0e-7, 1.0e-6, 5.0e-6, 1.0e-5, 5.0e-5, 1.0e-4, 5.0e-4, 1.0e-3, 5.0e-3, \n",
    "                          1.0e-2, 5.0e-2, 1.0e-1])\n",
    "ad_mass_range = np.linspace(10, 100, len(epsilon_range))\n",
    "ad_mass_range = 1.0e-3*ad_mass_range\n",
    "print(epsilon_range, ad_mass_range)"
   ]
  },
  {
   "cell_type": "code",
   "execution_count": 4,
   "metadata": {},
   "outputs": [],
   "source": [
    "lumi = 300.0e+15 # 300fb^-1\n",
    "pp2pion_xsec = 110.69e-3 # 110.69 mb\n",
    "n_generated = 1e+6/1\n",
    "\n",
    "df = pd.DataFrame(columns=['epsilon','mass', 'n_expected'])"
   ]
  },
  {
   "cell_type": "code",
   "execution_count": 5,
   "metadata": {},
   "outputs": [
    {
     "name": "stderr",
     "output_type": "stream",
     "text": [
      "\r",
      "  0%|          | 0/50000 [00:00<?, ?it/s]"
     ]
    },
    {
     "name": "stdout",
     "output_type": "stream",
     "text": [
      "running for eps=1.00E-07  ad_mass=1.00E-02\n"
     ]
    },
    {
     "name": "stderr",
     "output_type": "stream",
     "text": [
      "100%|██████████| 50000/50000 [00:01<00:00, 47631.49it/s]\n",
      " 10%|█         | 5043/50000 [00:00<00:00, 50427.76it/s]"
     ]
    },
    {
     "name": "stdout",
     "output_type": "stream",
     "text": [
      "n_expected 4.112721307289901e-05\n",
      "running for eps=5.00E-07  ad_mass=1.00E-02\n"
     ]
    },
    {
     "name": "stderr",
     "output_type": "stream",
     "text": [
      "100%|██████████| 50000/50000 [00:00<00:00, 50341.43it/s]\n",
      " 10%|▉         | 4990/50000 [00:00<00:00, 49897.91it/s]"
     ]
    },
    {
     "name": "stdout",
     "output_type": "stream",
     "text": [
      "n_expected 0.026849481994264412\n",
      "running for eps=1.00E-06  ad_mass=1.00E-02\n"
     ]
    },
    {
     "name": "stderr",
     "output_type": "stream",
     "text": [
      "100%|██████████| 50000/50000 [00:00<00:00, 50687.91it/s]\n",
      " 20%|█▉        | 9945/50000 [00:00<00:00, 49674.47it/s]"
     ]
    },
    {
     "name": "stdout",
     "output_type": "stream",
     "text": [
      "n_expected 0.403769685812017\n",
      "running for eps=5.00E-06  ad_mass=1.00E-02\n"
     ]
    },
    {
     "name": "stderr",
     "output_type": "stream",
     "text": [
      "100%|██████████| 50000/50000 [00:00<00:00, 50422.88it/s]\n",
      " 10%|▉         | 4959/50000 [00:00<00:00, 49582.36it/s]"
     ]
    },
    {
     "name": "stdout",
     "output_type": "stream",
     "text": [
      "n_expected 194.62702527316517\n",
      "running for eps=1.00E-05  ad_mass=1.00E-02\n"
     ]
    },
    {
     "name": "stderr",
     "output_type": "stream",
     "text": [
      "100%|██████████| 50000/50000 [00:00<00:00, 50101.74it/s]\n",
      " 10%|▉         | 4952/50000 [00:00<00:00, 49516.98it/s]"
     ]
    },
    {
     "name": "stdout",
     "output_type": "stream",
     "text": [
      "n_expected 2094.26876159089\n",
      "running for eps=5.00E-05  ad_mass=1.00E-02\n"
     ]
    },
    {
     "name": "stderr",
     "output_type": "stream",
     "text": [
      "100%|██████████| 50000/50000 [00:00<00:00, 50203.50it/s]\n",
      " 10%|█         | 5039/50000 [00:00<00:00, 50385.84it/s]"
     ]
    },
    {
     "name": "stdout",
     "output_type": "stream",
     "text": [
      "n_expected 40785.07856051039\n",
      "running for eps=1.00E-04  ad_mass=1.00E-02\n"
     ]
    },
    {
     "name": "stderr",
     "output_type": "stream",
     "text": [
      "100%|██████████| 50000/50000 [00:01<00:00, 49728.53it/s]\n",
      " 20%|█▉        | 9847/50000 [00:00<00:00, 49173.44it/s]"
     ]
    },
    {
     "name": "stdout",
     "output_type": "stream",
     "text": [
      "n_expected 14059.242837902264\n",
      "running for eps=5.00E-04  ad_mass=1.00E-02\n"
     ]
    },
    {
     "name": "stderr",
     "output_type": "stream",
     "text": [
      "100%|██████████| 50000/50000 [00:01<00:00, 49703.78it/s]\n",
      " 20%|█▉        | 9898/50000 [00:00<00:00, 49430.87it/s]"
     ]
    },
    {
     "name": "stdout",
     "output_type": "stream",
     "text": [
      "n_expected 7.042563426823799e-13\n",
      "running for eps=1.00E-03  ad_mass=1.00E-02\n"
     ]
    },
    {
     "name": "stderr",
     "output_type": "stream",
     "text": [
      "100%|██████████| 50000/50000 [00:01<00:00, 49432.43it/s]\n",
      " 20%|█▉        | 9750/50000 [00:00<00:00, 48769.89it/s]"
     ]
    },
    {
     "name": "stdout",
     "output_type": "stream",
     "text": [
      "n_expected 4.619712639173503e-53\n",
      "running for eps=5.00E-03  ad_mass=1.00E-02\n"
     ]
    },
    {
     "name": "stderr",
     "output_type": "stream",
     "text": [
      "100%|██████████| 50000/50000 [00:01<00:00, 49595.07it/s]\n",
      " 20%|█▉        | 9951/50000 [00:00<00:00, 49717.75it/s]"
     ]
    },
    {
     "name": "stdout",
     "output_type": "stream",
     "text": [
      "n_expected 0.0\n",
      "running for eps=1.00E-02  ad_mass=1.00E-02\n"
     ]
    },
    {
     "name": "stderr",
     "output_type": "stream",
     "text": [
      "100%|██████████| 50000/50000 [00:01<00:00, 49604.32it/s]\n",
      " 20%|█▉        | 9870/50000 [00:00<00:00, 49322.40it/s]"
     ]
    },
    {
     "name": "stdout",
     "output_type": "stream",
     "text": [
      "n_expected 0.0\n",
      "running for eps=5.00E-02  ad_mass=1.00E-02\n"
     ]
    },
    {
     "name": "stderr",
     "output_type": "stream",
     "text": [
      "100%|██████████| 50000/50000 [00:01<00:00, 49932.18it/s]\n",
      " 20%|█▉        | 9878/50000 [00:00<00:00, 49370.63it/s]"
     ]
    },
    {
     "name": "stdout",
     "output_type": "stream",
     "text": [
      "n_expected 0.0\n",
      "running for eps=1.00E-01  ad_mass=1.00E-02\n"
     ]
    },
    {
     "name": "stderr",
     "output_type": "stream",
     "text": [
      "100%|██████████| 50000/50000 [00:01<00:00, 49498.59it/s]\n",
      " 20%|█▉        | 9915/50000 [00:00<00:00, 49535.08it/s]"
     ]
    },
    {
     "name": "stdout",
     "output_type": "stream",
     "text": [
      "n_expected 0.0\n",
      "running for eps=1.00E-07  ad_mass=1.75E-02\n"
     ]
    },
    {
     "name": "stderr",
     "output_type": "stream",
     "text": [
      "100%|██████████| 50000/50000 [00:00<00:00, 50532.72it/s]\n",
      " 10%|▉         | 4971/50000 [00:00<00:00, 49708.03it/s]"
     ]
    },
    {
     "name": "stdout",
     "output_type": "stream",
     "text": [
      "n_expected 0.00015175992646280557\n",
      "running for eps=5.00E-07  ad_mass=1.75E-02\n"
     ]
    },
    {
     "name": "stderr",
     "output_type": "stream",
     "text": [
      "100%|██████████| 50000/50000 [00:00<00:00, 50370.15it/s]\n",
      " 10%|▉         | 4992/50000 [00:00<00:00, 49913.86it/s]"
     ]
    },
    {
     "name": "stdout",
     "output_type": "stream",
     "text": [
      "n_expected 0.08471588731200067\n",
      "running for eps=1.00E-06  ad_mass=1.75E-02\n"
     ]
    },
    {
     "name": "stderr",
     "output_type": "stream",
     "text": [
      "100%|██████████| 50000/50000 [00:00<00:00, 50487.19it/s]\n",
      " 10%|█         | 5000/50000 [00:00<00:00, 49914.36it/s]"
     ]
    },
    {
     "name": "stdout",
     "output_type": "stream",
     "text": [
      "n_expected 1.2918010670814077\n",
      "running for eps=5.00E-06  ad_mass=1.75E-02\n"
     ]
    },
    {
     "name": "stderr",
     "output_type": "stream",
     "text": [
      "100%|██████████| 50000/50000 [00:00<00:00, 50234.53it/s]\n",
      " 20%|█▉        | 9899/50000 [00:00<00:00, 49442.03it/s]"
     ]
    },
    {
     "name": "stdout",
     "output_type": "stream",
     "text": [
      "n_expected 456.6695915312221\n",
      "running for eps=1.00E-05  ad_mass=1.75E-02\n"
     ]
    },
    {
     "name": "stderr",
     "output_type": "stream",
     "text": [
      "100%|██████████| 50000/50000 [00:00<00:00, 50226.30it/s]\n",
      " 20%|█▉        | 9766/50000 [00:00<00:00, 48748.60it/s]"
     ]
    },
    {
     "name": "stdout",
     "output_type": "stream",
     "text": [
      "n_expected 3205.232738560607\n",
      "running for eps=5.00E-05  ad_mass=1.75E-02\n"
     ]
    },
    {
     "name": "stderr",
     "output_type": "stream",
     "text": [
      "100%|██████████| 50000/50000 [00:01<00:00, 48914.06it/s]\n",
      " 10%|▉         | 4813/50000 [00:00<00:00, 48120.87it/s]"
     ]
    },
    {
     "name": "stdout",
     "output_type": "stream",
     "text": [
      "n_expected 6341.43707487589\n",
      "running for eps=1.00E-04  ad_mass=1.75E-02\n"
     ]
    },
    {
     "name": "stderr",
     "output_type": "stream",
     "text": [
      "100%|██████████| 50000/50000 [00:01<00:00, 49063.12it/s]\n",
      " 10%|▉         | 4897/50000 [00:00<00:00, 48962.69it/s]"
     ]
    },
    {
     "name": "stdout",
     "output_type": "stream",
     "text": [
      "n_expected 121.91566497253928\n",
      "running for eps=5.00E-04  ad_mass=1.75E-02\n"
     ]
    },
    {
     "name": "stderr",
     "output_type": "stream",
     "text": [
      "100%|██████████| 50000/50000 [00:00<00:00, 50039.69it/s]\n",
      " 20%|█▉        | 9809/50000 [00:00<00:00, 48901.41it/s]"
     ]
    },
    {
     "name": "stdout",
     "output_type": "stream",
     "text": [
      "n_expected 1.1768419895835542e-37\n",
      "running for eps=1.00E-03  ad_mass=1.75E-02\n"
     ]
    },
    {
     "name": "stderr",
     "output_type": "stream",
     "text": [
      "100%|██████████| 50000/50000 [00:01<00:00, 49588.33it/s]\n",
      " 20%|█▉        | 9852/50000 [00:00<00:00, 49076.03it/s]"
     ]
    },
    {
     "name": "stdout",
     "output_type": "stream",
     "text": [
      "n_expected 2.5099020520160123e-168\n",
      "running for eps=5.00E-03  ad_mass=1.75E-02\n"
     ]
    },
    {
     "name": "stderr",
     "output_type": "stream",
     "text": [
      "100%|██████████| 50000/50000 [00:01<00:00, 49470.30it/s]\n",
      " 19%|█▉        | 9683/50000 [00:00<00:00, 48358.88it/s]"
     ]
    },
    {
     "name": "stdout",
     "output_type": "stream",
     "text": [
      "n_expected 0.0\n",
      "running for eps=1.00E-02  ad_mass=1.75E-02\n"
     ]
    },
    {
     "name": "stderr",
     "output_type": "stream",
     "text": [
      "100%|██████████| 50000/50000 [00:01<00:00, 49162.91it/s]\n",
      " 20%|█▉        | 9891/50000 [00:00<00:00, 49491.44it/s]"
     ]
    },
    {
     "name": "stdout",
     "output_type": "stream",
     "text": [
      "n_expected 0.0\n",
      "running for eps=5.00E-02  ad_mass=1.75E-02\n"
     ]
    },
    {
     "name": "stderr",
     "output_type": "stream",
     "text": [
      "100%|██████████| 50000/50000 [00:01<00:00, 49515.19it/s]\n",
      " 19%|█▉        | 9706/50000 [00:00<00:00, 48459.89it/s]"
     ]
    },
    {
     "name": "stdout",
     "output_type": "stream",
     "text": [
      "n_expected 0.0\n",
      "running for eps=1.00E-01  ad_mass=1.75E-02\n"
     ]
    },
    {
     "name": "stderr",
     "output_type": "stream",
     "text": [
      "100%|██████████| 50000/50000 [00:01<00:00, 49283.94it/s]\n",
      " 20%|█▉        | 9863/50000 [00:00<00:00, 49300.78it/s]"
     ]
    },
    {
     "name": "stdout",
     "output_type": "stream",
     "text": [
      "n_expected 0.0\n",
      "running for eps=1.00E-07  ad_mass=2.50E-02\n"
     ]
    },
    {
     "name": "stderr",
     "output_type": "stream",
     "text": [
      "100%|██████████| 50000/50000 [00:00<00:00, 50019.70it/s]\n",
      " 20%|█▉        | 9753/50000 [00:00<00:00, 49040.19it/s]"
     ]
    },
    {
     "name": "stdout",
     "output_type": "stream",
     "text": [
      "n_expected 0.00026595477964046487\n",
      "running for eps=5.00E-07  ad_mass=2.50E-02\n"
     ]
    },
    {
     "name": "stderr",
     "output_type": "stream",
     "text": [
      "100%|██████████| 50000/50000 [00:00<00:00, 50040.42it/s]\n",
      " 10%|▉         | 4959/50000 [00:00<00:00, 49584.49it/s]"
     ]
    },
    {
     "name": "stdout",
     "output_type": "stream",
     "text": [
      "n_expected 0.16429125278092424\n",
      "running for eps=1.00E-06  ad_mass=2.50E-02\n"
     ]
    },
    {
     "name": "stderr",
     "output_type": "stream",
     "text": [
      "100%|██████████| 50000/50000 [00:00<00:00, 50053.49it/s]\n",
      " 10%|▉         | 4929/50000 [00:00<00:00, 49284.99it/s]"
     ]
    },
    {
     "name": "stdout",
     "output_type": "stream",
     "text": [
      "n_expected 2.505826132142649\n",
      "running for eps=5.00E-06  ad_mass=2.50E-02\n"
     ]
    },
    {
     "name": "stderr",
     "output_type": "stream",
     "text": [
      "100%|██████████| 50000/50000 [00:00<00:00, 50178.68it/s]\n",
      " 20%|█▉        | 9934/50000 [00:00<00:00, 49691.95it/s]"
     ]
    },
    {
     "name": "stdout",
     "output_type": "stream",
     "text": [
      "n_expected 631.4155335353531\n",
      "running for eps=1.00E-05  ad_mass=2.50E-02\n"
     ]
    },
    {
     "name": "stderr",
     "output_type": "stream",
     "text": [
      "100%|██████████| 50000/50000 [00:01<00:00, 49906.23it/s]\n",
      " 20%|█▉        | 9813/50000 [00:00<00:00, 49170.11it/s]"
     ]
    },
    {
     "name": "stdout",
     "output_type": "stream",
     "text": [
      "n_expected 3216.7980425179644\n",
      "running for eps=5.00E-05  ad_mass=2.50E-02\n"
     ]
    },
    {
     "name": "stderr",
     "output_type": "stream",
     "text": [
      "100%|██████████| 50000/50000 [00:00<00:00, 50091.11it/s]\n",
      " 10%|█         | 5036/50000 [00:00<00:00, 50355.01it/s]"
     ]
    },
    {
     "name": "stdout",
     "output_type": "stream",
     "text": [
      "n_expected 675.2571996050982\n",
      "running for eps=1.00E-04  ad_mass=2.50E-02\n"
     ]
    },
    {
     "name": "stderr",
     "output_type": "stream",
     "text": [
      "100%|██████████| 50000/50000 [00:01<00:00, 49710.52it/s]\n",
      " 19%|█▉        | 9679/50000 [00:00<00:00, 48545.10it/s]"
     ]
    },
    {
     "name": "stdout",
     "output_type": "stream",
     "text": [
      "n_expected 0.8920661148368992\n",
      "running for eps=5.00E-04  ad_mass=2.50E-02\n"
     ]
    },
    {
     "name": "stderr",
     "output_type": "stream",
     "text": [
      "100%|██████████| 50000/50000 [00:01<00:00, 49430.95it/s]\n",
      " 20%|█▉        | 9805/50000 [00:00<00:00, 49026.18it/s]"
     ]
    },
    {
     "name": "stdout",
     "output_type": "stream",
     "text": [
      "n_expected 1.0786058885557759e-96\n",
      "running for eps=1.00E-03  ad_mass=2.50E-02\n"
     ]
    },
    {
     "name": "stderr",
     "output_type": "stream",
     "text": [
      "100%|██████████| 50000/50000 [00:01<00:00, 49516.98it/s]\n",
      " 19%|█▉        | 9663/50000 [00:00<00:00, 48417.01it/s]"
     ]
    },
    {
     "name": "stdout",
     "output_type": "stream",
     "text": [
      "n_expected 0.0\n",
      "running for eps=5.00E-03  ad_mass=2.50E-02\n"
     ]
    },
    {
     "name": "stderr",
     "output_type": "stream",
     "text": [
      "100%|██████████| 50000/50000 [00:01<00:00, 49453.28it/s]\n",
      " 20%|█▉        | 9817/50000 [00:00<00:00, 48998.60it/s]"
     ]
    },
    {
     "name": "stdout",
     "output_type": "stream",
     "text": [
      "n_expected 0.0\n",
      "running for eps=1.00E-02  ad_mass=2.50E-02\n"
     ]
    },
    {
     "name": "stderr",
     "output_type": "stream",
     "text": [
      "100%|██████████| 50000/50000 [00:01<00:00, 49859.86it/s]\n",
      " 10%|▉         | 4897/50000 [00:00<00:00, 48969.81it/s]"
     ]
    },
    {
     "name": "stdout",
     "output_type": "stream",
     "text": [
      "n_expected 0.0\n",
      "running for eps=5.00E-02  ad_mass=2.50E-02\n"
     ]
    },
    {
     "name": "stderr",
     "output_type": "stream",
     "text": [
      "100%|██████████| 50000/50000 [00:01<00:00, 49916.78it/s]\n",
      " 20%|█▉        | 9757/50000 [00:00<00:00, 48922.45it/s]"
     ]
    },
    {
     "name": "stdout",
     "output_type": "stream",
     "text": [
      "n_expected 0.0\n",
      "running for eps=1.00E-01  ad_mass=2.50E-02\n"
     ]
    },
    {
     "name": "stderr",
     "output_type": "stream",
     "text": [
      "100%|██████████| 50000/50000 [00:01<00:00, 49282.65it/s]\n",
      " 10%|▉         | 4943/50000 [00:00<00:00, 49422.74it/s]"
     ]
    },
    {
     "name": "stdout",
     "output_type": "stream",
     "text": [
      "n_expected 0.0\n",
      "running for eps=1.00E-07  ad_mass=3.25E-02\n"
     ]
    },
    {
     "name": "stderr",
     "output_type": "stream",
     "text": [
      "100%|██████████| 50000/50000 [00:00<00:00, 50476.14it/s]\n",
      " 10%|▉         | 4982/50000 [00:00<00:00, 49791.79it/s]"
     ]
    },
    {
     "name": "stdout",
     "output_type": "stream",
     "text": [
      "n_expected 0.0004421452931599395\n",
      "running for eps=5.00E-07  ad_mass=3.25E-02\n"
     ]
    },
    {
     "name": "stderr",
     "output_type": "stream",
     "text": [
      "100%|██████████| 50000/50000 [00:01<00:00, 49869.43it/s]\n",
      " 10%|▉         | 4994/50000 [00:00<00:00, 49937.43it/s]"
     ]
    },
    {
     "name": "stdout",
     "output_type": "stream",
     "text": [
      "n_expected 0.25972306738179135\n",
      "running for eps=1.00E-06  ad_mass=3.25E-02\n"
     ]
    },
    {
     "name": "stderr",
     "output_type": "stream",
     "text": [
      "100%|██████████| 50000/50000 [00:00<00:00, 50491.92it/s]\n",
      " 10%|▉         | 4927/50000 [00:00<00:00, 49269.58it/s]"
     ]
    },
    {
     "name": "stdout",
     "output_type": "stream",
     "text": [
      "n_expected 3.6268205932882704\n",
      "running for eps=5.00E-06  ad_mass=3.25E-02\n"
     ]
    },
    {
     "name": "stderr",
     "output_type": "stream",
     "text": [
      "100%|██████████| 50000/50000 [00:01<00:00, 49940.25it/s]\n",
      " 20%|█▉        | 9828/50000 [00:00<00:00, 49204.09it/s]"
     ]
    },
    {
     "name": "stdout",
     "output_type": "stream",
     "text": [
      "n_expected 709.2929747716549\n",
      "running for eps=1.00E-05  ad_mass=3.25E-02\n"
     ]
    },
    {
     "name": "stderr",
     "output_type": "stream",
     "text": [
      "100%|██████████| 50000/50000 [00:00<00:00, 50210.54it/s]\n",
      " 20%|█▉        | 9865/50000 [00:00<00:00, 49336.81it/s]"
     ]
    },
    {
     "name": "stdout",
     "output_type": "stream",
     "text": [
      "n_expected 2743.027785775139\n",
      "running for eps=5.00E-05  ad_mass=3.25E-02\n"
     ]
    },
    {
     "name": "stderr",
     "output_type": "stream",
     "text": [
      "100%|██████████| 50000/50000 [00:01<00:00, 49559.08it/s]\n",
      " 10%|▉         | 4853/50000 [00:00<00:00, 48522.76it/s]"
     ]
    },
    {
     "name": "stdout",
     "output_type": "stream",
     "text": [
      "n_expected 65.45053378060538\n",
      "running for eps=1.00E-04  ad_mass=3.25E-02\n"
     ]
    },
    {
     "name": "stderr",
     "output_type": "stream",
     "text": [
      "100%|██████████| 50000/50000 [00:01<00:00, 49723.56it/s]\n",
      " 10%|▉         | 4824/50000 [00:00<00:00, 48238.78it/s]"
     ]
    },
    {
     "name": "stdout",
     "output_type": "stream",
     "text": [
      "n_expected 0.0004006132286368966\n",
      "running for eps=5.00E-04  ad_mass=3.25E-02\n"
     ]
    },
    {
     "name": "stderr",
     "output_type": "stream",
     "text": [
      "100%|██████████| 50000/50000 [00:01<00:00, 49453.31it/s]\n",
      " 10%|▉         | 4812/50000 [00:00<00:00, 48111.90it/s]"
     ]
    },
    {
     "name": "stdout",
     "output_type": "stream",
     "text": [
      "n_expected 2.0163694199846454e-183\n",
      "running for eps=1.00E-03  ad_mass=3.25E-02\n"
     ]
    },
    {
     "name": "stderr",
     "output_type": "stream",
     "text": [
      "100%|██████████| 50000/50000 [00:01<00:00, 49546.93it/s]\n",
      " 20%|█▉        | 9782/50000 [00:00<00:00, 48782.94it/s]"
     ]
    },
    {
     "name": "stdout",
     "output_type": "stream",
     "text": [
      "n_expected 0.0\n",
      "running for eps=5.00E-03  ad_mass=3.25E-02\n"
     ]
    },
    {
     "name": "stderr",
     "output_type": "stream",
     "text": [
      "100%|██████████| 50000/50000 [00:01<00:00, 49400.90it/s]\n",
      " 10%|▉         | 4835/50000 [00:00<00:00, 48343.25it/s]"
     ]
    },
    {
     "name": "stdout",
     "output_type": "stream",
     "text": [
      "n_expected 0.0\n",
      "running for eps=1.00E-02  ad_mass=3.25E-02\n"
     ]
    },
    {
     "name": "stderr",
     "output_type": "stream",
     "text": [
      "100%|██████████| 50000/50000 [00:01<00:00, 49748.91it/s]\n",
      " 20%|█▉        | 9804/50000 [00:00<00:00, 48801.27it/s]"
     ]
    },
    {
     "name": "stdout",
     "output_type": "stream",
     "text": [
      "n_expected 0.0\n",
      "running for eps=5.00E-02  ad_mass=3.25E-02\n"
     ]
    },
    {
     "name": "stderr",
     "output_type": "stream",
     "text": [
      "100%|██████████| 50000/50000 [00:01<00:00, 49702.67it/s]\n",
      " 10%|▉         | 4877/50000 [00:00<00:00, 48761.79it/s]"
     ]
    },
    {
     "name": "stdout",
     "output_type": "stream",
     "text": [
      "n_expected 0.0\n",
      "running for eps=1.00E-01  ad_mass=3.25E-02\n"
     ]
    },
    {
     "name": "stderr",
     "output_type": "stream",
     "text": [
      "100%|██████████| 50000/50000 [00:01<00:00, 49908.94it/s]\n",
      " 20%|█▉        | 9862/50000 [00:00<00:00, 49151.84it/s]"
     ]
    },
    {
     "name": "stdout",
     "output_type": "stream",
     "text": [
      "n_expected 0.0\n",
      "running for eps=1.00E-07  ad_mass=4.00E-02\n"
     ]
    },
    {
     "name": "stderr",
     "output_type": "stream",
     "text": [
      "100%|██████████| 50000/50000 [00:00<00:00, 50213.48it/s]\n",
      " 10%|▉         | 4885/50000 [00:00<00:00, 48846.44it/s]"
     ]
    },
    {
     "name": "stdout",
     "output_type": "stream",
     "text": [
      "n_expected 0.0005613778155942361\n",
      "running for eps=5.00E-07  ad_mass=4.00E-02\n"
     ]
    },
    {
     "name": "stderr",
     "output_type": "stream",
     "text": [
      "100%|██████████| 50000/50000 [00:00<00:00, 50413.86it/s]\n",
      " 10%|▉         | 4853/50000 [00:00<00:00, 48528.54it/s]"
     ]
    },
    {
     "name": "stdout",
     "output_type": "stream",
     "text": [
      "n_expected 0.3314183647072128\n",
      "running for eps=1.00E-06  ad_mass=4.00E-02\n"
     ]
    },
    {
     "name": "stderr",
     "output_type": "stream",
     "text": [
      "100%|██████████| 50000/50000 [00:00<00:00, 50130.46it/s]\n",
      " 10%|▉         | 4967/50000 [00:00<00:00, 49665.67it/s]"
     ]
    },
    {
     "name": "stdout",
     "output_type": "stream",
     "text": [
      "n_expected 4.54854905450276\n",
      "running for eps=5.00E-06  ad_mass=4.00E-02\n"
     ]
    },
    {
     "name": "stderr",
     "output_type": "stream",
     "text": [
      "100%|██████████| 50000/50000 [00:00<00:00, 50260.74it/s]\n",
      " 10%|▉         | 4827/50000 [00:00<00:00, 48265.21it/s]"
     ]
    },
    {
     "name": "stdout",
     "output_type": "stream",
     "text": [
      "n_expected 715.1139610821397\n",
      "running for eps=1.00E-05  ad_mass=4.00E-02\n"
     ]
    },
    {
     "name": "stderr",
     "output_type": "stream",
     "text": [
      "100%|██████████| 50000/50000 [00:01<00:00, 49846.27it/s]\n",
      " 10%|▉         | 4829/50000 [00:00<00:00, 48286.13it/s]"
     ]
    },
    {
     "name": "stdout",
     "output_type": "stream",
     "text": [
      "n_expected 2050.7881479404837\n",
      "running for eps=5.00E-05  ad_mass=4.00E-02\n"
     ]
    },
    {
     "name": "stderr",
     "output_type": "stream",
     "text": [
      "100%|██████████| 50000/50000 [00:01<00:00, 49637.39it/s]\n",
      " 10%|▉         | 4875/50000 [00:00<00:00, 48744.00it/s]"
     ]
    },
    {
     "name": "stdout",
     "output_type": "stream",
     "text": [
      "n_expected 7.167751069278457\n",
      "running for eps=1.00E-04  ad_mass=4.00E-02\n"
     ]
    },
    {
     "name": "stderr",
     "output_type": "stream",
     "text": [
      "100%|██████████| 50000/50000 [00:01<00:00, 49817.33it/s]\n",
      " 10%|▉         | 4862/50000 [00:00<00:00, 48616.22it/s]"
     ]
    },
    {
     "name": "stdout",
     "output_type": "stream",
     "text": [
      "n_expected 5.57915610527297e-09\n",
      "running for eps=5.00E-04  ad_mass=4.00E-02\n"
     ]
    },
    {
     "name": "stderr",
     "output_type": "stream",
     "text": [
      "100%|██████████| 50000/50000 [00:01<00:00, 49143.37it/s]\n",
      " 10%|▉         | 4864/50000 [00:00<00:00, 48637.50it/s]"
     ]
    },
    {
     "name": "stdout",
     "output_type": "stream",
     "text": [
      "n_expected 0.0\n",
      "running for eps=1.00E-03  ad_mass=4.00E-02\n"
     ]
    },
    {
     "name": "stderr",
     "output_type": "stream",
     "text": [
      "100%|██████████| 50000/50000 [00:01<00:00, 49197.83it/s]\n",
      " 20%|█▉        | 9794/50000 [00:00<00:00, 48843.33it/s]"
     ]
    },
    {
     "name": "stdout",
     "output_type": "stream",
     "text": [
      "n_expected 0.0\n",
      "running for eps=5.00E-03  ad_mass=4.00E-02\n"
     ]
    },
    {
     "name": "stderr",
     "output_type": "stream",
     "text": [
      "100%|██████████| 50000/50000 [00:01<00:00, 49813.98it/s]\n",
      " 10%|▉         | 4926/50000 [00:00<00:00, 49252.88it/s]"
     ]
    },
    {
     "name": "stdout",
     "output_type": "stream",
     "text": [
      "n_expected 0.0\n",
      "running for eps=1.00E-02  ad_mass=4.00E-02\n"
     ]
    },
    {
     "name": "stderr",
     "output_type": "stream",
     "text": [
      "100%|██████████| 50000/50000 [00:00<00:00, 50002.81it/s]\n",
      " 10%|▉         | 4911/50000 [00:00<00:00, 49061.27it/s]"
     ]
    },
    {
     "name": "stdout",
     "output_type": "stream",
     "text": [
      "n_expected 0.0\n",
      "running for eps=5.00E-02  ad_mass=4.00E-02\n"
     ]
    },
    {
     "name": "stderr",
     "output_type": "stream",
     "text": [
      "100%|██████████| 50000/50000 [00:01<00:00, 49834.61it/s]\n",
      " 10%|▉         | 4986/50000 [00:00<00:00, 49852.44it/s]"
     ]
    },
    {
     "name": "stdout",
     "output_type": "stream",
     "text": [
      "n_expected 0.0\n",
      "running for eps=1.00E-01  ad_mass=4.00E-02\n"
     ]
    },
    {
     "name": "stderr",
     "output_type": "stream",
     "text": [
      "100%|██████████| 50000/50000 [00:01<00:00, 49857.17it/s]\n",
      " 20%|█▉        | 9986/50000 [00:00<00:00, 49752.14it/s]"
     ]
    },
    {
     "name": "stdout",
     "output_type": "stream",
     "text": [
      "n_expected 0.0\n",
      "running for eps=1.00E-07  ad_mass=4.75E-02\n"
     ]
    },
    {
     "name": "stderr",
     "output_type": "stream",
     "text": [
      "100%|██████████| 50000/50000 [00:00<00:00, 50656.09it/s]\n",
      " 10%|█         | 5062/50000 [00:00<00:00, 50615.70it/s]"
     ]
    },
    {
     "name": "stdout",
     "output_type": "stream",
     "text": [
      "n_expected 0.0006725672918804782\n",
      "running for eps=5.00E-07  ad_mass=4.75E-02\n"
     ]
    },
    {
     "name": "stderr",
     "output_type": "stream",
     "text": [
      "100%|██████████| 50000/50000 [00:00<00:00, 50650.61it/s]\n",
      " 10%|▉         | 4932/50000 [00:00<00:00, 49318.17it/s]"
     ]
    },
    {
     "name": "stdout",
     "output_type": "stream",
     "text": [
      "n_expected 0.38663638682049173\n",
      "running for eps=1.00E-06  ad_mass=4.75E-02\n"
     ]
    },
    {
     "name": "stderr",
     "output_type": "stream",
     "text": [
      "100%|██████████| 50000/50000 [00:00<00:00, 50560.15it/s]\n",
      " 10%|▉         | 4916/50000 [00:00<00:00, 49158.17it/s]"
     ]
    },
    {
     "name": "stdout",
     "output_type": "stream",
     "text": [
      "n_expected 5.227614676328569\n",
      "running for eps=5.00E-06  ad_mass=4.75E-02\n"
     ]
    },
    {
     "name": "stderr",
     "output_type": "stream",
     "text": [
      "100%|██████████| 50000/50000 [00:00<00:00, 50289.24it/s]\n",
      " 20%|█▉        | 9806/50000 [00:00<00:00, 49017.92it/s]"
     ]
    },
    {
     "name": "stdout",
     "output_type": "stream",
     "text": [
      "n_expected 657.7740234142944\n",
      "running for eps=1.00E-05  ad_mass=4.75E-02\n"
     ]
    },
    {
     "name": "stderr",
     "output_type": "stream",
     "text": [
      "100%|██████████| 50000/50000 [00:00<00:00, 50028.78it/s]\n",
      " 10%|▉         | 4920/50000 [00:00<00:00, 49127.19it/s]"
     ]
    },
    {
     "name": "stdout",
     "output_type": "stream",
     "text": [
      "n_expected 1433.4167518620663\n",
      "running for eps=5.00E-05  ad_mass=4.75E-02\n"
     ]
    },
    {
     "name": "stderr",
     "output_type": "stream",
     "text": [
      "100%|██████████| 50000/50000 [00:01<00:00, 49937.77it/s]\n",
      " 10%|▉         | 4869/50000 [00:00<00:00, 48688.42it/s]"
     ]
    },
    {
     "name": "stdout",
     "output_type": "stream",
     "text": [
      "n_expected 0.23729220242568835\n",
      "running for eps=1.00E-04  ad_mass=4.75E-02\n"
     ]
    },
    {
     "name": "stderr",
     "output_type": "stream",
     "text": [
      "100%|██████████| 50000/50000 [00:01<00:00, 49907.05it/s]\n",
      " 20%|█▉        | 9872/50000 [00:00<00:00, 49242.39it/s]"
     ]
    },
    {
     "name": "stdout",
     "output_type": "stream",
     "text": [
      "n_expected 6.7339787104612986e-09\n",
      "running for eps=5.00E-04  ad_mass=4.75E-02\n"
     ]
    },
    {
     "name": "stderr",
     "output_type": "stream",
     "text": [
      "100%|██████████| 50000/50000 [00:01<00:00, 49816.68it/s]\n",
      " 20%|█▉        | 9799/50000 [00:00<00:00, 48860.26it/s]"
     ]
    },
    {
     "name": "stdout",
     "output_type": "stream",
     "text": [
      "n_expected 0.0\n",
      "running for eps=1.00E-03  ad_mass=4.75E-02\n"
     ]
    },
    {
     "name": "stderr",
     "output_type": "stream",
     "text": [
      "100%|██████████| 50000/50000 [00:01<00:00, 49793.11it/s]\n",
      " 20%|█▉        | 9852/50000 [00:00<00:00, 49133.41it/s]"
     ]
    },
    {
     "name": "stdout",
     "output_type": "stream",
     "text": [
      "n_expected 0.0\n",
      "running for eps=5.00E-03  ad_mass=4.75E-02\n"
     ]
    },
    {
     "name": "stderr",
     "output_type": "stream",
     "text": [
      "100%|██████████| 50000/50000 [00:01<00:00, 49934.29it/s]\n",
      " 20%|█▉        | 9812/50000 [00:00<00:00, 48946.56it/s]"
     ]
    },
    {
     "name": "stdout",
     "output_type": "stream",
     "text": [
      "n_expected 0.0\n",
      "running for eps=1.00E-02  ad_mass=4.75E-02\n"
     ]
    },
    {
     "name": "stderr",
     "output_type": "stream",
     "text": [
      "100%|██████████| 50000/50000 [00:01<00:00, 49827.14it/s]\n",
      " 10%|▉         | 4916/50000 [00:00<00:00, 49156.06it/s]"
     ]
    },
    {
     "name": "stdout",
     "output_type": "stream",
     "text": [
      "n_expected 0.0\n",
      "running for eps=5.00E-02  ad_mass=4.75E-02\n"
     ]
    },
    {
     "name": "stderr",
     "output_type": "stream",
     "text": [
      "100%|██████████| 50000/50000 [00:01<00:00, 49694.17it/s]\n",
      " 10%|▉         | 4925/50000 [00:00<00:00, 49246.17it/s]"
     ]
    },
    {
     "name": "stdout",
     "output_type": "stream",
     "text": [
      "n_expected 0.0\n",
      "running for eps=1.00E-01  ad_mass=4.75E-02\n"
     ]
    },
    {
     "name": "stderr",
     "output_type": "stream",
     "text": [
      "100%|██████████| 50000/50000 [00:00<00:00, 50070.56it/s]\n",
      " 10%|▉         | 4997/50000 [00:00<00:00, 49967.07it/s]"
     ]
    },
    {
     "name": "stdout",
     "output_type": "stream",
     "text": [
      "n_expected 0.0\n",
      "running for eps=1.00E-07  ad_mass=5.50E-02\n"
     ]
    },
    {
     "name": "stderr",
     "output_type": "stream",
     "text": [
      "100%|██████████| 50000/50000 [00:00<00:00, 50515.40it/s]\n",
      " 20%|█▉        | 9910/50000 [00:00<00:00, 49510.65it/s]"
     ]
    },
    {
     "name": "stdout",
     "output_type": "stream",
     "text": [
      "n_expected 0.0007581512861802082\n",
      "running for eps=5.00E-07  ad_mass=5.50E-02\n"
     ]
    },
    {
     "name": "stderr",
     "output_type": "stream",
     "text": [
      "100%|██████████| 50000/50000 [00:00<00:00, 50399.73it/s]\n",
      " 10%|▉         | 4958/50000 [00:00<00:00, 49554.29it/s]"
     ]
    },
    {
     "name": "stdout",
     "output_type": "stream",
     "text": [
      "n_expected 0.422811219226959\n",
      "running for eps=1.00E-06  ad_mass=5.50E-02\n"
     ]
    },
    {
     "name": "stderr",
     "output_type": "stream",
     "text": [
      "100%|██████████| 50000/50000 [00:01<00:00, 49596.76it/s]\n",
      " 10%|▉         | 4962/50000 [00:00<00:00, 49613.07it/s]"
     ]
    },
    {
     "name": "stdout",
     "output_type": "stream",
     "text": [
      "n_expected 5.579718554480025\n",
      "running for eps=5.00E-06  ad_mass=5.50E-02\n"
     ]
    },
    {
     "name": "stderr",
     "output_type": "stream",
     "text": [
      "100%|██████████| 50000/50000 [00:00<00:00, 50556.04it/s]\n",
      " 10%|▉         | 4937/50000 [00:00<00:00, 49368.75it/s]"
     ]
    },
    {
     "name": "stdout",
     "output_type": "stream",
     "text": [
      "n_expected 575.0552934660702\n",
      "running for eps=1.00E-05  ad_mass=5.50E-02\n"
     ]
    },
    {
     "name": "stderr",
     "output_type": "stream",
     "text": [
      "100%|██████████| 50000/50000 [00:01<00:00, 49553.03it/s]\n",
      " 10%|▉         | 4899/50000 [00:00<00:00, 48988.29it/s]"
     ]
    },
    {
     "name": "stdout",
     "output_type": "stream",
     "text": [
      "n_expected 944.9672829807635\n",
      "running for eps=5.00E-05  ad_mass=5.50E-02\n"
     ]
    },
    {
     "name": "stderr",
     "output_type": "stream",
     "text": [
      "100%|██████████| 50000/50000 [00:00<00:00, 50005.48it/s]\n",
      " 10%|▉         | 4909/50000 [00:00<00:00, 49083.03it/s]"
     ]
    },
    {
     "name": "stdout",
     "output_type": "stream",
     "text": [
      "n_expected 0.02808778174331763\n",
      "running for eps=1.00E-04  ad_mass=5.50E-02\n"
     ]
    },
    {
     "name": "stderr",
     "output_type": "stream",
     "text": [
      "100%|██████████| 50000/50000 [00:01<00:00, 49549.91it/s]\n",
      " 20%|█▉        | 9839/50000 [00:00<00:00, 49082.92it/s]"
     ]
    },
    {
     "name": "stdout",
     "output_type": "stream",
     "text": [
      "n_expected 3.912805535351787e-17\n",
      "running for eps=5.00E-04  ad_mass=5.50E-02\n"
     ]
    },
    {
     "name": "stderr",
     "output_type": "stream",
     "text": [
      "100%|██████████| 50000/50000 [00:01<00:00, 49705.66it/s]\n",
      " 20%|█▉        | 9890/50000 [00:00<00:00, 49386.15it/s]"
     ]
    },
    {
     "name": "stdout",
     "output_type": "stream",
     "text": [
      "n_expected 0.0\n",
      "running for eps=1.00E-03  ad_mass=5.50E-02\n"
     ]
    },
    {
     "name": "stderr",
     "output_type": "stream",
     "text": [
      "100%|██████████| 50000/50000 [00:01<00:00, 49637.37it/s]\n",
      " 10%|▉         | 4908/50000 [00:00<00:00, 49077.47it/s]"
     ]
    },
    {
     "name": "stdout",
     "output_type": "stream",
     "text": [
      "n_expected 0.0\n",
      "running for eps=5.00E-03  ad_mass=5.50E-02\n"
     ]
    },
    {
     "name": "stderr",
     "output_type": "stream",
     "text": [
      "100%|██████████| 50000/50000 [00:00<00:00, 50145.24it/s]\n",
      " 10%|▉         | 4925/50000 [00:00<00:00, 49243.94it/s]"
     ]
    },
    {
     "name": "stdout",
     "output_type": "stream",
     "text": [
      "n_expected 0.0\n",
      "running for eps=1.00E-02  ad_mass=5.50E-02\n"
     ]
    },
    {
     "name": "stderr",
     "output_type": "stream",
     "text": [
      "100%|██████████| 50000/50000 [00:01<00:00, 49807.06it/s]\n",
      " 20%|█▉        | 9896/50000 [00:00<00:00, 49397.68it/s]"
     ]
    },
    {
     "name": "stdout",
     "output_type": "stream",
     "text": [
      "n_expected 0.0\n",
      "running for eps=5.00E-02  ad_mass=5.50E-02\n"
     ]
    },
    {
     "name": "stderr",
     "output_type": "stream",
     "text": [
      "100%|██████████| 50000/50000 [00:00<00:00, 50024.95it/s]\n",
      " 10%|▉         | 4937/50000 [00:00<00:00, 49365.34it/s]"
     ]
    },
    {
     "name": "stdout",
     "output_type": "stream",
     "text": [
      "n_expected 0.0\n",
      "running for eps=1.00E-01  ad_mass=5.50E-02\n"
     ]
    },
    {
     "name": "stderr",
     "output_type": "stream",
     "text": [
      "100%|██████████| 50000/50000 [00:01<00:00, 49626.23it/s]\n",
      " 20%|█▉        | 9955/50000 [00:00<00:00, 49626.18it/s]"
     ]
    },
    {
     "name": "stdout",
     "output_type": "stream",
     "text": [
      "n_expected 0.0\n",
      "running for eps=1.00E-07  ad_mass=6.25E-02\n"
     ]
    },
    {
     "name": "stderr",
     "output_type": "stream",
     "text": [
      "100%|██████████| 50000/50000 [00:00<00:00, 50534.71it/s]\n",
      " 20%|██        | 10061/50000 [00:00<00:00, 50302.21it/s]"
     ]
    },
    {
     "name": "stdout",
     "output_type": "stream",
     "text": [
      "n_expected 0.0007461971125282865\n",
      "running for eps=5.00E-07  ad_mass=6.25E-02\n"
     ]
    },
    {
     "name": "stderr",
     "output_type": "stream",
     "text": [
      "100%|██████████| 50000/50000 [00:00<00:00, 50200.85it/s]\n",
      " 20%|██        | 10013/50000 [00:00<00:00, 49962.10it/s]"
     ]
    },
    {
     "name": "stdout",
     "output_type": "stream",
     "text": [
      "n_expected 0.4216082202227743\n",
      "running for eps=1.00E-06  ad_mass=6.25E-02\n"
     ]
    },
    {
     "name": "stderr",
     "output_type": "stream",
     "text": [
      "100%|██████████| 50000/50000 [00:00<00:00, 50218.41it/s]\n",
      " 20%|█▉        | 9936/50000 [00:00<00:00, 49649.10it/s]"
     ]
    },
    {
     "name": "stdout",
     "output_type": "stream",
     "text": [
      "n_expected 5.469023962124386\n",
      "running for eps=5.00E-06  ad_mass=6.25E-02\n"
     ]
    },
    {
     "name": "stderr",
     "output_type": "stream",
     "text": [
      "100%|██████████| 50000/50000 [00:00<00:00, 50080.64it/s]\n",
      " 10%|▉         | 4938/50000 [00:00<00:00, 49378.75it/s]"
     ]
    },
    {
     "name": "stdout",
     "output_type": "stream",
     "text": [
      "n_expected 463.67683386892077\n",
      "running for eps=1.00E-05  ad_mass=6.25E-02\n"
     ]
    },
    {
     "name": "stderr",
     "output_type": "stream",
     "text": [
      "100%|██████████| 50000/50000 [00:00<00:00, 50082.15it/s]\n",
      " 10%|▉         | 4898/50000 [00:00<00:00, 48970.82it/s]"
     ]
    },
    {
     "name": "stdout",
     "output_type": "stream",
     "text": [
      "n_expected 591.207793909907\n",
      "running for eps=5.00E-05  ad_mass=6.25E-02\n"
     ]
    },
    {
     "name": "stderr",
     "output_type": "stream",
     "text": [
      "100%|██████████| 50000/50000 [00:01<00:00, 49004.72it/s]\n",
      " 20%|█▉        | 9840/50000 [00:00<00:00, 49018.68it/s]"
     ]
    },
    {
     "name": "stdout",
     "output_type": "stream",
     "text": [
      "n_expected 0.0011948120721835445\n",
      "running for eps=1.00E-04  ad_mass=6.25E-02\n"
     ]
    },
    {
     "name": "stderr",
     "output_type": "stream",
     "text": [
      "100%|██████████| 50000/50000 [00:01<00:00, 49656.20it/s]\n",
      " 10%|▉         | 4986/50000 [00:00<00:00, 49859.57it/s]"
     ]
    },
    {
     "name": "stdout",
     "output_type": "stream",
     "text": [
      "n_expected 8.13251262849537e-21\n",
      "running for eps=5.00E-04  ad_mass=6.25E-02\n"
     ]
    },
    {
     "name": "stderr",
     "output_type": "stream",
     "text": [
      "100%|██████████| 50000/50000 [00:01<00:00, 49788.34it/s]\n",
      " 10%|▉         | 4900/50000 [00:00<00:00, 48997.59it/s]"
     ]
    },
    {
     "name": "stdout",
     "output_type": "stream",
     "text": [
      "n_expected 0.0\n",
      "running for eps=1.00E-03  ad_mass=6.25E-02\n"
     ]
    },
    {
     "name": "stderr",
     "output_type": "stream",
     "text": [
      "100%|██████████| 50000/50000 [00:01<00:00, 49819.99it/s]\n",
      " 20%|█▉        | 9812/50000 [00:00<00:00, 48978.50it/s]"
     ]
    },
    {
     "name": "stdout",
     "output_type": "stream",
     "text": [
      "n_expected 0.0\n",
      "running for eps=5.00E-03  ad_mass=6.25E-02\n"
     ]
    },
    {
     "name": "stderr",
     "output_type": "stream",
     "text": [
      "100%|██████████| 50000/50000 [00:01<00:00, 49518.30it/s]\n",
      " 10%|▉         | 4949/50000 [00:00<00:00, 49482.85it/s]"
     ]
    },
    {
     "name": "stdout",
     "output_type": "stream",
     "text": [
      "n_expected 0.0\n",
      "running for eps=1.00E-02  ad_mass=6.25E-02\n"
     ]
    },
    {
     "name": "stderr",
     "output_type": "stream",
     "text": [
      "100%|██████████| 50000/50000 [00:01<00:00, 49234.46it/s]\n",
      " 10%|▉         | 4866/50000 [00:00<00:00, 48653.09it/s]"
     ]
    },
    {
     "name": "stdout",
     "output_type": "stream",
     "text": [
      "n_expected 0.0\n",
      "running for eps=5.00E-02  ad_mass=6.25E-02\n"
     ]
    },
    {
     "name": "stderr",
     "output_type": "stream",
     "text": [
      "100%|██████████| 50000/50000 [00:01<00:00, 49011.15it/s]\n",
      " 20%|█▉        | 9825/50000 [00:00<00:00, 49092.27it/s]"
     ]
    },
    {
     "name": "stdout",
     "output_type": "stream",
     "text": [
      "n_expected 0.0\n",
      "running for eps=1.00E-01  ad_mass=6.25E-02\n"
     ]
    },
    {
     "name": "stderr",
     "output_type": "stream",
     "text": [
      "100%|██████████| 50000/50000 [00:01<00:00, 49837.42it/s]\n",
      " 10%|▉         | 4979/50000 [00:00<00:00, 49780.91it/s]"
     ]
    },
    {
     "name": "stdout",
     "output_type": "stream",
     "text": [
      "n_expected 0.0\n",
      "running for eps=1.00E-07  ad_mass=7.00E-02\n"
     ]
    },
    {
     "name": "stderr",
     "output_type": "stream",
     "text": [
      "100%|██████████| 50000/50000 [00:00<00:00, 50228.55it/s]\n",
      " 20%|██        | 10027/50000 [00:00<00:00, 50064.98it/s]"
     ]
    },
    {
     "name": "stdout",
     "output_type": "stream",
     "text": [
      "n_expected 0.0007157450961671826\n",
      "running for eps=5.00E-07  ad_mass=7.00E-02\n"
     ]
    },
    {
     "name": "stderr",
     "output_type": "stream",
     "text": [
      "100%|██████████| 50000/50000 [00:00<00:00, 50587.33it/s]\n",
      " 10%|█         | 5022/50000 [00:00<00:00, 50213.58it/s]"
     ]
    },
    {
     "name": "stdout",
     "output_type": "stream",
     "text": [
      "n_expected 0.38598896797159754\n",
      "running for eps=1.00E-06  ad_mass=7.00E-02\n"
     ]
    },
    {
     "name": "stderr",
     "output_type": "stream",
     "text": [
      "100%|██████████| 50000/50000 [00:00<00:00, 50392.53it/s]\n",
      " 10%|▉         | 4910/50000 [00:00<00:00, 49092.09it/s]"
     ]
    },
    {
     "name": "stdout",
     "output_type": "stream",
     "text": [
      "n_expected 5.09801198791492\n",
      "running for eps=5.00E-06  ad_mass=7.00E-02\n"
     ]
    },
    {
     "name": "stderr",
     "output_type": "stream",
     "text": [
      "100%|██████████| 50000/50000 [00:00<00:00, 50290.31it/s]\n",
      " 20%|█▉        | 9947/50000 [00:00<00:00, 49604.45it/s]"
     ]
    },
    {
     "name": "stdout",
     "output_type": "stream",
     "text": [
      "n_expected 357.30031570168944\n",
      "running for eps=1.00E-05  ad_mass=7.00E-02\n"
     ]
    },
    {
     "name": "stderr",
     "output_type": "stream",
     "text": [
      "100%|██████████| 50000/50000 [00:00<00:00, 50041.59it/s]\n",
      " 10%|▉         | 4907/50000 [00:00<00:00, 49061.86it/s]"
     ]
    },
    {
     "name": "stdout",
     "output_type": "stream",
     "text": [
      "n_expected 358.09853731568757\n",
      "running for eps=5.00E-05  ad_mass=7.00E-02\n"
     ]
    },
    {
     "name": "stderr",
     "output_type": "stream",
     "text": [
      "100%|██████████| 50000/50000 [00:01<00:00, 49885.57it/s]\n",
      " 20%|█▉        | 9890/50000 [00:00<00:00, 49469.18it/s]"
     ]
    },
    {
     "name": "stdout",
     "output_type": "stream",
     "text": [
      "n_expected 1.9872360646104525e-05\n",
      "running for eps=1.00E-04  ad_mass=7.00E-02\n"
     ]
    },
    {
     "name": "stderr",
     "output_type": "stream",
     "text": [
      "100%|██████████| 50000/50000 [00:01<00:00, 49727.75it/s]\n",
      " 20%|█▉        | 9918/50000 [00:00<00:00, 49614.94it/s]"
     ]
    },
    {
     "name": "stdout",
     "output_type": "stream",
     "text": [
      "n_expected 8.087566912410819e-32\n",
      "running for eps=5.00E-04  ad_mass=7.00E-02\n"
     ]
    },
    {
     "name": "stderr",
     "output_type": "stream",
     "text": [
      "100%|██████████| 50000/50000 [00:00<00:00, 50073.67it/s]\n",
      " 20%|█▉        | 9933/50000 [00:00<00:00, 49657.54it/s]"
     ]
    },
    {
     "name": "stdout",
     "output_type": "stream",
     "text": [
      "n_expected 0.0\n",
      "running for eps=1.00E-03  ad_mass=7.00E-02\n"
     ]
    },
    {
     "name": "stderr",
     "output_type": "stream",
     "text": [
      "100%|██████████| 50000/50000 [00:01<00:00, 49643.68it/s]\n",
      " 20%|█▉        | 9923/50000 [00:00<00:00, 49452.66it/s]"
     ]
    },
    {
     "name": "stdout",
     "output_type": "stream",
     "text": [
      "n_expected 0.0\n",
      "running for eps=5.00E-03  ad_mass=7.00E-02\n"
     ]
    },
    {
     "name": "stderr",
     "output_type": "stream",
     "text": [
      "100%|██████████| 50000/50000 [00:00<00:00, 50233.32it/s]\n",
      " 20%|█▉        | 9901/50000 [00:00<00:00, 49444.62it/s]"
     ]
    },
    {
     "name": "stdout",
     "output_type": "stream",
     "text": [
      "n_expected 0.0\n",
      "running for eps=1.00E-02  ad_mass=7.00E-02\n"
     ]
    },
    {
     "name": "stderr",
     "output_type": "stream",
     "text": [
      "100%|██████████| 50000/50000 [00:01<00:00, 49648.38it/s]\n",
      " 10%|▉         | 4944/50000 [00:00<00:00, 49438.04it/s]"
     ]
    },
    {
     "name": "stdout",
     "output_type": "stream",
     "text": [
      "n_expected 0.0\n",
      "running for eps=5.00E-02  ad_mass=7.00E-02\n"
     ]
    },
    {
     "name": "stderr",
     "output_type": "stream",
     "text": [
      "100%|██████████| 50000/50000 [00:00<00:00, 50061.93it/s]\n",
      " 20%|█▉        | 9929/50000 [00:00<00:00, 49542.10it/s]"
     ]
    },
    {
     "name": "stdout",
     "output_type": "stream",
     "text": [
      "n_expected 0.0\n",
      "running for eps=1.00E-01  ad_mass=7.00E-02\n"
     ]
    },
    {
     "name": "stderr",
     "output_type": "stream",
     "text": [
      "100%|██████████| 50000/50000 [00:01<00:00, 49860.07it/s]\n",
      " 20%|█▉        | 9998/50000 [00:00<00:00, 49852.05it/s]"
     ]
    },
    {
     "name": "stdout",
     "output_type": "stream",
     "text": [
      "n_expected 0.0\n",
      "running for eps=1.00E-07  ad_mass=7.75E-02\n"
     ]
    },
    {
     "name": "stderr",
     "output_type": "stream",
     "text": [
      "100%|██████████| 50000/50000 [00:00<00:00, 50503.21it/s]\n",
      " 10%|▉         | 4989/50000 [00:00<00:00, 49883.39it/s]"
     ]
    },
    {
     "name": "stdout",
     "output_type": "stream",
     "text": [
      "n_expected 0.0006277873843548365\n",
      "running for eps=5.00E-07  ad_mass=7.75E-02\n"
     ]
    },
    {
     "name": "stderr",
     "output_type": "stream",
     "text": [
      "100%|██████████| 50000/50000 [00:00<00:00, 50403.94it/s]\n",
      " 10%|▉         | 4946/50000 [00:00<00:00, 49459.34it/s]"
     ]
    },
    {
     "name": "stdout",
     "output_type": "stream",
     "text": [
      "n_expected 0.3481585829261274\n",
      "running for eps=1.00E-06  ad_mass=7.75E-02\n"
     ]
    },
    {
     "name": "stderr",
     "output_type": "stream",
     "text": [
      "100%|██████████| 50000/50000 [00:00<00:00, 50747.98it/s]\n",
      " 10%|▉         | 4980/50000 [00:00<00:00, 49798.98it/s]"
     ]
    },
    {
     "name": "stdout",
     "output_type": "stream",
     "text": [
      "n_expected 4.370648522777682\n",
      "running for eps=5.00E-06  ad_mass=7.75E-02\n"
     ]
    },
    {
     "name": "stderr",
     "output_type": "stream",
     "text": [
      "100%|██████████| 50000/50000 [00:00<00:00, 50429.85it/s]\n",
      " 20%|█▉        | 9985/50000 [00:00<00:00, 49716.49it/s]"
     ]
    },
    {
     "name": "stdout",
     "output_type": "stream",
     "text": [
      "n_expected 259.45092194763095\n",
      "running for eps=1.00E-05  ad_mass=7.75E-02\n"
     ]
    },
    {
     "name": "stderr",
     "output_type": "stream",
     "text": [
      "100%|██████████| 50000/50000 [00:01<00:00, 49654.08it/s]\n",
      " 10%|▉         | 4908/50000 [00:00<00:00, 49079.70it/s]"
     ]
    },
    {
     "name": "stdout",
     "output_type": "stream",
     "text": [
      "n_expected 202.43751377370185\n",
      "running for eps=5.00E-05  ad_mass=7.75E-02\n"
     ]
    },
    {
     "name": "stderr",
     "output_type": "stream",
     "text": [
      "100%|██████████| 50000/50000 [00:01<00:00, 49638.53it/s]\n",
      " 10%|▉         | 4874/50000 [00:00<00:00, 48709.39it/s]"
     ]
    },
    {
     "name": "stdout",
     "output_type": "stream",
     "text": [
      "n_expected 4.057938066618764e-06\n",
      "running for eps=1.00E-04  ad_mass=7.75E-02\n"
     ]
    },
    {
     "name": "stderr",
     "output_type": "stream",
     "text": [
      "100%|██████████| 50000/50000 [00:01<00:00, 49769.34it/s]\n",
      " 10%|▉         | 4947/50000 [00:00<00:00, 49465.80it/s]"
     ]
    },
    {
     "name": "stdout",
     "output_type": "stream",
     "text": [
      "n_expected 3.0711133534004417e-28\n",
      "running for eps=5.00E-04  ad_mass=7.75E-02\n"
     ]
    },
    {
     "name": "stderr",
     "output_type": "stream",
     "text": [
      "100%|██████████| 50000/50000 [00:01<00:00, 49557.97it/s]\n",
      " 10%|▉         | 4853/50000 [00:00<00:00, 48520.91it/s]"
     ]
    },
    {
     "name": "stdout",
     "output_type": "stream",
     "text": [
      "n_expected 0.0\n",
      "running for eps=1.00E-03  ad_mass=7.75E-02\n"
     ]
    },
    {
     "name": "stderr",
     "output_type": "stream",
     "text": [
      "100%|██████████| 50000/50000 [00:01<00:00, 48906.82it/s]\n",
      " 20%|█▉        | 9834/50000 [00:00<00:00, 49135.37it/s]"
     ]
    },
    {
     "name": "stdout",
     "output_type": "stream",
     "text": [
      "n_expected 0.0\n",
      "running for eps=5.00E-03  ad_mass=7.75E-02\n"
     ]
    },
    {
     "name": "stderr",
     "output_type": "stream",
     "text": [
      "100%|██████████| 50000/50000 [00:01<00:00, 49223.52it/s]\n",
      " 10%|▉         | 4848/50000 [00:00<00:00, 48473.81it/s]"
     ]
    },
    {
     "name": "stdout",
     "output_type": "stream",
     "text": [
      "n_expected 0.0\n",
      "running for eps=1.00E-02  ad_mass=7.75E-02\n"
     ]
    },
    {
     "name": "stderr",
     "output_type": "stream",
     "text": [
      "100%|██████████| 50000/50000 [00:01<00:00, 49350.18it/s]\n",
      " 10%|▉         | 4834/50000 [00:00<00:00, 48336.36it/s]"
     ]
    },
    {
     "name": "stdout",
     "output_type": "stream",
     "text": [
      "n_expected 0.0\n",
      "running for eps=5.00E-02  ad_mass=7.75E-02\n"
     ]
    },
    {
     "name": "stderr",
     "output_type": "stream",
     "text": [
      "100%|██████████| 50000/50000 [00:01<00:00, 49267.10it/s]\n",
      " 10%|▉         | 4896/50000 [00:00<00:00, 48953.28it/s]"
     ]
    },
    {
     "name": "stdout",
     "output_type": "stream",
     "text": [
      "n_expected 0.0\n",
      "running for eps=1.00E-01  ad_mass=7.75E-02\n"
     ]
    },
    {
     "name": "stderr",
     "output_type": "stream",
     "text": [
      "100%|██████████| 50000/50000 [00:01<00:00, 49803.06it/s]\n",
      " 20%|█▉        | 9908/50000 [00:00<00:00, 49545.25it/s]"
     ]
    },
    {
     "name": "stdout",
     "output_type": "stream",
     "text": [
      "n_expected 0.0\n",
      "running for eps=1.00E-07  ad_mass=8.50E-02\n"
     ]
    },
    {
     "name": "stderr",
     "output_type": "stream",
     "text": [
      "100%|██████████| 50000/50000 [00:00<00:00, 50124.13it/s]\n",
      " 10%|▉         | 4929/50000 [00:00<00:00, 49282.06it/s]"
     ]
    },
    {
     "name": "stdout",
     "output_type": "stream",
     "text": [
      "n_expected 0.000563897525300099\n",
      "running for eps=5.00E-07  ad_mass=8.50E-02\n"
     ]
    },
    {
     "name": "stderr",
     "output_type": "stream",
     "text": [
      "100%|██████████| 50000/50000 [00:00<00:00, 50372.08it/s]\n",
      " 20%|█▉        | 9900/50000 [00:00<00:00, 49433.85it/s]"
     ]
    },
    {
     "name": "stdout",
     "output_type": "stream",
     "text": [
      "n_expected 0.28121213236585546\n",
      "running for eps=1.00E-06  ad_mass=8.50E-02\n"
     ]
    },
    {
     "name": "stderr",
     "output_type": "stream",
     "text": [
      "100%|██████████| 50000/50000 [00:01<00:00, 49673.52it/s]\n",
      " 10%|▉         | 4942/50000 [00:00<00:00, 49410.98it/s]"
     ]
    },
    {
     "name": "stdout",
     "output_type": "stream",
     "text": [
      "n_expected 3.519626873391254\n",
      "running for eps=5.00E-06  ad_mass=8.50E-02\n"
     ]
    },
    {
     "name": "stderr",
     "output_type": "stream",
     "text": [
      "100%|██████████| 50000/50000 [00:00<00:00, 50099.67it/s]\n",
      " 10%|▉         | 4916/50000 [00:00<00:00, 49151.96it/s]"
     ]
    },
    {
     "name": "stdout",
     "output_type": "stream",
     "text": [
      "n_expected 178.08672614847902\n",
      "running for eps=1.00E-05  ad_mass=8.50E-02\n"
     ]
    },
    {
     "name": "stderr",
     "output_type": "stream",
     "text": [
      "100%|██████████| 50000/50000 [00:01<00:00, 49506.98it/s]\n",
      "  8%|▊         | 3843/50000 [00:00<00:01, 38429.76it/s]"
     ]
    },
    {
     "name": "stdout",
     "output_type": "stream",
     "text": [
      "n_expected 110.891531399049\n",
      "running for eps=5.00E-05  ad_mass=8.50E-02\n"
     ]
    },
    {
     "name": "stderr",
     "output_type": "stream",
     "text": [
      "100%|██████████| 50000/50000 [00:01<00:00, 46734.72it/s]\n",
      "  9%|▉         | 4690/50000 [00:00<00:00, 46896.69it/s]"
     ]
    },
    {
     "name": "stdout",
     "output_type": "stream",
     "text": [
      "n_expected 1.1875784126927423e-08\n",
      "running for eps=1.00E-04  ad_mass=8.50E-02\n"
     ]
    },
    {
     "name": "stderr",
     "output_type": "stream",
     "text": [
      "100%|██████████| 50000/50000 [00:01<00:00, 47434.75it/s]\n",
      "  9%|▉         | 4692/50000 [00:00<00:00, 46853.91it/s]"
     ]
    },
    {
     "name": "stdout",
     "output_type": "stream",
     "text": [
      "n_expected 6.940288023688112e-36\n",
      "running for eps=5.00E-04  ad_mass=8.50E-02\n"
     ]
    },
    {
     "name": "stderr",
     "output_type": "stream",
     "text": [
      "100%|██████████| 50000/50000 [00:01<00:00, 47639.83it/s]\n",
      "  9%|▉         | 4693/50000 [00:00<00:00, 46923.89it/s]"
     ]
    },
    {
     "name": "stdout",
     "output_type": "stream",
     "text": [
      "n_expected 0.0\n",
      "running for eps=1.00E-03  ad_mass=8.50E-02\n"
     ]
    },
    {
     "name": "stderr",
     "output_type": "stream",
     "text": [
      "100%|██████████| 50000/50000 [00:01<00:00, 46246.63it/s]\n",
      "  9%|▉         | 4599/50000 [00:00<00:00, 45982.70it/s]"
     ]
    },
    {
     "name": "stdout",
     "output_type": "stream",
     "text": [
      "n_expected 0.0\n",
      "running for eps=5.00E-03  ad_mass=8.50E-02\n"
     ]
    },
    {
     "name": "stderr",
     "output_type": "stream",
     "text": [
      "100%|██████████| 50000/50000 [00:01<00:00, 47699.19it/s]\n",
      "  9%|▉         | 4696/50000 [00:00<00:00, 46950.87it/s]"
     ]
    },
    {
     "name": "stdout",
     "output_type": "stream",
     "text": [
      "n_expected 0.0\n",
      "running for eps=1.00E-02  ad_mass=8.50E-02\n"
     ]
    },
    {
     "name": "stderr",
     "output_type": "stream",
     "text": [
      "100%|██████████| 50000/50000 [00:01<00:00, 47598.14it/s]\n",
      "  9%|▉         | 4731/50000 [00:00<00:00, 47305.98it/s]"
     ]
    },
    {
     "name": "stdout",
     "output_type": "stream",
     "text": [
      "n_expected 0.0\n",
      "running for eps=5.00E-02  ad_mass=8.50E-02\n"
     ]
    },
    {
     "name": "stderr",
     "output_type": "stream",
     "text": [
      "100%|██████████| 50000/50000 [00:01<00:00, 47560.82it/s]\n",
      " 19%|█▊        | 9357/50000 [00:00<00:00, 46819.66it/s]"
     ]
    },
    {
     "name": "stdout",
     "output_type": "stream",
     "text": [
      "n_expected 0.0\n",
      "running for eps=1.00E-01  ad_mass=8.50E-02\n"
     ]
    },
    {
     "name": "stderr",
     "output_type": "stream",
     "text": [
      "100%|██████████| 50000/50000 [00:01<00:00, 47201.75it/s]\n",
      "  9%|▉         | 4710/50000 [00:00<00:00, 47095.44it/s]"
     ]
    },
    {
     "name": "stdout",
     "output_type": "stream",
     "text": [
      "n_expected 0.0\n",
      "running for eps=1.00E-07  ad_mass=9.25E-02\n"
     ]
    },
    {
     "name": "stderr",
     "output_type": "stream",
     "text": [
      "100%|██████████| 50000/50000 [00:01<00:00, 48060.99it/s]\n",
      " 19%|█▉        | 9376/50000 [00:00<00:00, 46926.59it/s]"
     ]
    },
    {
     "name": "stdout",
     "output_type": "stream",
     "text": [
      "n_expected 0.0004004343393611487\n",
      "running for eps=5.00E-07  ad_mass=9.25E-02\n"
     ]
    },
    {
     "name": "stderr",
     "output_type": "stream",
     "text": [
      "100%|██████████| 50000/50000 [00:01<00:00, 47603.00it/s]\n",
      " 10%|▉         | 4817/50000 [00:00<00:00, 48164.19it/s]"
     ]
    },
    {
     "name": "stdout",
     "output_type": "stream",
     "text": [
      "n_expected 0.2074652330053131\n",
      "running for eps=1.00E-06  ad_mass=9.25E-02\n"
     ]
    },
    {
     "name": "stderr",
     "output_type": "stream",
     "text": [
      "100%|██████████| 50000/50000 [00:01<00:00, 48170.95it/s]\n",
      " 19%|█▊        | 9346/50000 [00:00<00:00, 46820.68it/s]"
     ]
    },
    {
     "name": "stdout",
     "output_type": "stream",
     "text": [
      "n_expected 2.5570344614634832\n",
      "running for eps=5.00E-06  ad_mass=9.25E-02\n"
     ]
    },
    {
     "name": "stderr",
     "output_type": "stream",
     "text": [
      "100%|██████████| 50000/50000 [00:01<00:00, 47487.73it/s]\n",
      " 19%|█▊        | 9356/50000 [00:00<00:00, 46752.84it/s]"
     ]
    },
    {
     "name": "stdout",
     "output_type": "stream",
     "text": [
      "n_expected 112.8421338782192\n",
      "running for eps=1.00E-05  ad_mass=9.25E-02\n"
     ]
    },
    {
     "name": "stderr",
     "output_type": "stream",
     "text": [
      "100%|██████████| 50000/50000 [00:01<00:00, 47567.00it/s]\n",
      "  9%|▉         | 4624/50000 [00:00<00:00, 46235.19it/s]"
     ]
    },
    {
     "name": "stdout",
     "output_type": "stream",
     "text": [
      "n_expected 56.81774920972327\n",
      "running for eps=5.00E-05  ad_mass=9.25E-02\n"
     ]
    },
    {
     "name": "stderr",
     "output_type": "stream",
     "text": [
      "100%|██████████| 50000/50000 [00:01<00:00, 47031.20it/s]\n",
      "  9%|▉         | 4573/50000 [00:00<00:00, 45727.10it/s]"
     ]
    },
    {
     "name": "stdout",
     "output_type": "stream",
     "text": [
      "n_expected 3.5213103763349355e-11\n",
      "running for eps=1.00E-04  ad_mass=9.25E-02\n"
     ]
    },
    {
     "name": "stderr",
     "output_type": "stream",
     "text": [
      "100%|██████████| 50000/50000 [00:01<00:00, 47088.12it/s]\n",
      "  9%|▉         | 4610/50000 [00:00<00:00, 46094.66it/s]"
     ]
    },
    {
     "name": "stdout",
     "output_type": "stream",
     "text": [
      "n_expected 1.5208555591607423e-51\n",
      "running for eps=5.00E-04  ad_mass=9.25E-02\n"
     ]
    },
    {
     "name": "stderr",
     "output_type": "stream",
     "text": [
      "100%|██████████| 50000/50000 [00:01<00:00, 47241.72it/s]\n",
      " 19%|█▊        | 9363/50000 [00:00<00:00, 46713.57it/s]"
     ]
    },
    {
     "name": "stdout",
     "output_type": "stream",
     "text": [
      "n_expected 0.0\n",
      "running for eps=1.00E-03  ad_mass=9.25E-02\n"
     ]
    },
    {
     "name": "stderr",
     "output_type": "stream",
     "text": [
      "100%|██████████| 50000/50000 [00:01<00:00, 47127.40it/s]\n",
      "  9%|▉         | 4568/50000 [00:00<00:00, 45616.96it/s]"
     ]
    },
    {
     "name": "stdout",
     "output_type": "stream",
     "text": [
      "n_expected 0.0\n",
      "running for eps=5.00E-03  ad_mass=9.25E-02\n"
     ]
    },
    {
     "name": "stderr",
     "output_type": "stream",
     "text": [
      "100%|██████████| 50000/50000 [00:01<00:00, 46310.34it/s]\n",
      " 19%|█▊        | 9283/50000 [00:00<00:00, 46144.15it/s]"
     ]
    },
    {
     "name": "stdout",
     "output_type": "stream",
     "text": [
      "n_expected 0.0\n",
      "running for eps=1.00E-02  ad_mass=9.25E-02\n"
     ]
    },
    {
     "name": "stderr",
     "output_type": "stream",
     "text": [
      "100%|██████████| 50000/50000 [00:01<00:00, 46432.56it/s]\n",
      "  9%|▉         | 4696/50000 [00:00<00:00, 46952.32it/s]"
     ]
    },
    {
     "name": "stdout",
     "output_type": "stream",
     "text": [
      "n_expected 0.0\n",
      "running for eps=5.00E-02  ad_mass=9.25E-02\n"
     ]
    },
    {
     "name": "stderr",
     "output_type": "stream",
     "text": [
      "100%|██████████| 50000/50000 [00:01<00:00, 46965.69it/s]\n",
      "  9%|▉         | 4568/50000 [00:00<00:00, 45673.18it/s]"
     ]
    },
    {
     "name": "stdout",
     "output_type": "stream",
     "text": [
      "n_expected 0.0\n",
      "running for eps=1.00E-01  ad_mass=9.25E-02\n"
     ]
    },
    {
     "name": "stderr",
     "output_type": "stream",
     "text": [
      "100%|██████████| 50000/50000 [00:01<00:00, 46791.50it/s]\n",
      "  9%|▉         | 4682/50000 [00:00<00:00, 46816.70it/s]"
     ]
    },
    {
     "name": "stdout",
     "output_type": "stream",
     "text": [
      "n_expected 0.0\n",
      "running for eps=1.00E-07  ad_mass=1.00E-01\n"
     ]
    },
    {
     "name": "stderr",
     "output_type": "stream",
     "text": [
      "100%|██████████| 50000/50000 [00:01<00:00, 47489.67it/s]\n",
      "  9%|▉         | 4715/50000 [00:00<00:00, 47141.95it/s]"
     ]
    },
    {
     "name": "stdout",
     "output_type": "stream",
     "text": [
      "n_expected 0.0002729755310354125\n",
      "running for eps=5.00E-07  ad_mass=1.00E-01\n"
     ]
    },
    {
     "name": "stderr",
     "output_type": "stream",
     "text": [
      "100%|██████████| 50000/50000 [00:01<00:00, 47273.35it/s]\n",
      "  9%|▉         | 4709/50000 [00:00<00:00, 47080.62it/s]"
     ]
    },
    {
     "name": "stdout",
     "output_type": "stream",
     "text": [
      "n_expected 0.14032131340741336\n",
      "running for eps=1.00E-06  ad_mass=1.00E-01\n"
     ]
    },
    {
     "name": "stderr",
     "output_type": "stream",
     "text": [
      "100%|██████████| 50000/50000 [00:01<00:00, 47986.30it/s]\n",
      " 19%|█▉        | 9410/50000 [00:00<00:00, 47037.98it/s]"
     ]
    },
    {
     "name": "stdout",
     "output_type": "stream",
     "text": [
      "n_expected 1.7225622326813868\n",
      "running for eps=5.00E-06  ad_mass=1.00E-01\n"
     ]
    },
    {
     "name": "stderr",
     "output_type": "stream",
     "text": [
      "100%|██████████| 50000/50000 [00:01<00:00, 47322.37it/s]\n",
      "  9%|▉         | 4688/50000 [00:00<00:00, 46879.15it/s]"
     ]
    },
    {
     "name": "stdout",
     "output_type": "stream",
     "text": [
      "n_expected 64.54813000094731\n",
      "running for eps=1.00E-05  ad_mass=1.00E-01\n"
     ]
    },
    {
     "name": "stderr",
     "output_type": "stream",
     "text": [
      "100%|██████████| 50000/50000 [00:01<00:00, 47607.17it/s]\n",
      "  9%|▉         | 4696/50000 [00:00<00:00, 46954.78it/s]"
     ]
    },
    {
     "name": "stdout",
     "output_type": "stream",
     "text": [
      "n_expected 26.47118810411921\n",
      "running for eps=5.00E-05  ad_mass=1.00E-01\n"
     ]
    },
    {
     "name": "stderr",
     "output_type": "stream",
     "text": [
      "100%|██████████| 50000/50000 [00:01<00:00, 47454.81it/s]\n",
      "  9%|▉         | 4698/50000 [00:00<00:00, 46975.45it/s]"
     ]
    },
    {
     "name": "stdout",
     "output_type": "stream",
     "text": [
      "n_expected 1.2669612904443944e-14\n",
      "running for eps=1.00E-04  ad_mass=1.00E-01\n"
     ]
    },
    {
     "name": "stderr",
     "output_type": "stream",
     "text": [
      "100%|██████████| 50000/50000 [00:01<00:00, 47509.91it/s]\n",
      " 10%|▉         | 4764/50000 [00:00<00:00, 47631.87it/s]"
     ]
    },
    {
     "name": "stdout",
     "output_type": "stream",
     "text": [
      "n_expected 3.7167505674759525e-67\n",
      "running for eps=5.00E-04  ad_mass=1.00E-01\n"
     ]
    },
    {
     "name": "stderr",
     "output_type": "stream",
     "text": [
      "100%|██████████| 50000/50000 [00:01<00:00, 47350.20it/s]\n",
      "  9%|▉         | 4735/50000 [00:00<00:00, 47344.63it/s]"
     ]
    },
    {
     "name": "stdout",
     "output_type": "stream",
     "text": [
      "n_expected 0.0\n",
      "running for eps=1.00E-03  ad_mass=1.00E-01\n"
     ]
    },
    {
     "name": "stderr",
     "output_type": "stream",
     "text": [
      "100%|██████████| 50000/50000 [00:01<00:00, 47493.65it/s]\n",
      " 18%|█▊        | 9135/50000 [00:00<00:00, 45571.48it/s]"
     ]
    },
    {
     "name": "stdout",
     "output_type": "stream",
     "text": [
      "n_expected 0.0\n",
      "running for eps=5.00E-03  ad_mass=1.00E-01\n"
     ]
    },
    {
     "name": "stderr",
     "output_type": "stream",
     "text": [
      "100%|██████████| 50000/50000 [00:01<00:00, 47128.62it/s]\n",
      "  9%|▉         | 4656/50000 [00:00<00:00, 46554.16it/s]"
     ]
    },
    {
     "name": "stdout",
     "output_type": "stream",
     "text": [
      "n_expected 0.0\n",
      "running for eps=1.00E-02  ad_mass=1.00E-01\n"
     ]
    },
    {
     "name": "stderr",
     "output_type": "stream",
     "text": [
      "100%|██████████| 50000/50000 [00:01<00:00, 46993.43it/s]\n",
      "  9%|▉         | 4592/50000 [00:00<00:00, 45918.18it/s]"
     ]
    },
    {
     "name": "stdout",
     "output_type": "stream",
     "text": [
      "n_expected 0.0\n",
      "running for eps=5.00E-02  ad_mass=1.00E-01\n"
     ]
    },
    {
     "name": "stderr",
     "output_type": "stream",
     "text": [
      "100%|██████████| 50000/50000 [00:01<00:00, 47342.22it/s]\n",
      "  9%|▉         | 4667/50000 [00:00<00:00, 46666.26it/s]"
     ]
    },
    {
     "name": "stdout",
     "output_type": "stream",
     "text": [
      "n_expected 0.0\n",
      "running for eps=1.00E-01  ad_mass=1.00E-01\n"
     ]
    },
    {
     "name": "stderr",
     "output_type": "stream",
     "text": [
      "100%|██████████| 50000/50000 [00:01<00:00, 47475.74it/s]\n"
     ]
    },
    {
     "name": "stdout",
     "output_type": "stream",
     "text": [
      "n_expected 0.0\n"
     ]
    }
   ],
   "source": [
    "for ad_mass in ad_mass_range:\n",
    "\n",
    "    for epsilon in epsilon_range:\n",
    "\n",
    "        n_events = 0.0\n",
    "        br_pion2adgamma = 2 * epsilon**2 * (1-(ad_mass/pion_mass)**2)**3\n",
    "\n",
    "        print(\"running for eps=%.2E  ad_mass=%.2E\" %(epsilon, ad_mass))\n",
    "\n",
    "        for i_event in tqdm(range(int(n_generated))):\n",
    "\n",
    "            mother, ad, prob = get_prob(treeReader, i_event, epsilon, ad_mass, 0.000e-3, br_e(ad_mass))\n",
    "\n",
    "            if ad.Rapidity() > 6.22 and ad.Rapidity() < 7.61:\n",
    "                n_events += (lumi) * (pp2pion_xsec)* (1/n_generated) * br_pion2adgamma * prob\n",
    "\n",
    "        print(\"n_expected\", n_events)\n",
    "        df = df.append(pd.Series([epsilon, ad_mass, n_events], index=df.columns), ignore_index=True)\n",
    "\n",
    "df.to_csv('pion2ad.csv')"
   ]
  }
 ],
 "metadata": {
  "kernelspec": {
   "display_name": "Python 3",
   "language": "python",
   "name": "python3"
  },
  "language_info": {
   "codemirror_mode": {
    "name": "ipython",
    "version": 3
   },
   "file_extension": ".py",
   "mimetype": "text/x-python",
   "name": "python",
   "nbconvert_exporter": "python",
   "pygments_lexer": "ipython3",
   "version": "3.6.9"
  }
 },
 "nbformat": 4,
 "nbformat_minor": 4
}
