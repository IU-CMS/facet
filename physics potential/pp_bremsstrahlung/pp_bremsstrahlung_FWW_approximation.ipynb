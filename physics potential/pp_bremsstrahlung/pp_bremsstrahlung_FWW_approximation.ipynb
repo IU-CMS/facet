{
 "cells": [
  {
   "cell_type": "code",
   "execution_count": 1,
   "metadata": {},
   "outputs": [
    {
     "name": "stdout",
     "output_type": "stream",
     "text": [
      "Welcome to JupyROOT 6.22/05\n"
     ]
    }
   ],
   "source": [
    "import numpy as np\n",
    "import matplotlib.pyplot as plt\n",
    "from scipy.interpolate import interp1d\n",
    "import ROOT\n",
    "import pandas as pd"
   ]
  },
  {
   "cell_type": "code",
   "execution_count": 10,
   "metadata": {},
   "outputs": [],
   "source": [
    "def h(z, pt, m_a):\n",
    "    m_p = 0.938 # GeV\n",
    "    return pt**2 + (1-z) * m_a**2 + z**2 + m_p**2\n",
    "\n",
    "def w_z(theta, pt, m_a, epsilon):\n",
    "    m_p      = 0.938 # GeV\n",
    "    alpha    = 1./1.\n",
    "    p_proton = 13000 # GeV momentum of the incoming proton\n",
    "    \n",
    "    p = pt / np.sin(theta)\n",
    "    z = p * np.cos(theta) / p_proton\n",
    "    \n",
    "    a = epsilon**2 * alpha / (2 * np.pi * h(z, pt, m_a))\n",
    "    b = (1 + (1 - z)**2) / z\n",
    "    c = 2 * z * (1 - z) \n",
    "    d = ((2 * m_p**2 + m_a**2) / h(z, pt, m_a)) - (z**2 * 2 * m_p**4 / h(z, pt, m_a)**2)\n",
    "    e = 2 * z * (1 - z) * (z + (1 - z)**2) * m_p**2 * m_a**2 / h(z, pt, m_a)**2\n",
    "    f = 2 * z * (1 - z)**2 * m_a**4 / h(z, pt, m_a)**2\n",
    "\n",
    "    return a * (b - c * d + e + f)\n",
    "\n",
    "def q_min(theta, pt, m_a):\n",
    "    m_p      = 0.938 # GeV\n",
    "    E_p      = 13000 # GeV is the incident proton energy in the rest frame of the other proton.\n",
    "    p_proton = 13000 # GeV momentum of the incoming proton\n",
    "    \n",
    "    p = pt / np.sin(theta)\n",
    "    z = ((pt**2 + p**2 * np.cos(theta)**2)/ p_proton**2)**0.5\n",
    "    return (1 / (4 * z * E_p**2 * (1 - z)**2)) * (pt**2 + (1 - z) * m_a**2 + z**2 * m_p**2)\n",
    "\n",
    "def sqrt_s_prime(theta, pt, m_a):\n",
    "    m_p = 0.938 # GeV\n",
    "    E_p = 6500 # GeV is the incident proton energy.\n",
    "    \n",
    "    p = pt / np.sin(theta)\n",
    "    E_a = (m_a**2 + p**2)**0.5\n",
    "    \n",
    "    return (2 * m_p * (E_p - E_a))**0.5\n",
    "\n",
    "def get_decay_prob(theta, pt, m_a, epsilon, L1, L2, br=1.0):\n",
    "    p = pt / np.sin(theta)\n",
    "    E_a = (m_a**2 + p**2)**0.5\n",
    "    decay_length = 80 * br * (1e-5/epsilon)**2 * (E_a/1e+3) * (100/(m_a*1e+3))**2 \n",
    "    # https://arxiv.org/pdf/1708.09389.pdf - page 6\n",
    "    prob = ROOT.TMath.Exp(-L1/decay_length)-ROOT.TMath.Exp(-L2/decay_length)\n",
    "    #prob = (L2-L1)/decay_length\n",
    "\n",
    "    return prob"
   ]
  },
  {
   "cell_type": "code",
   "execution_count": 11,
   "metadata": {},
   "outputs": [],
   "source": [
    "def form_factor(m_a):\n",
    "    # calculate the form factor\n",
    "    m_rho     = 782\n",
    "    width_rho = 146\n",
    "    fv_list   = [0.616, 0.223, -0.339]\n",
    "    \n",
    "    form_factor = 0 + 0j\n",
    "    for i in range(len(fv_list)):\n",
    "        form_factor += (fv_list[i]*m_rho**2)/(m_rho**2-m_a**2-(m_rho*width_rho*1j))\n",
    "    \n",
    "    m_omega     = 770\n",
    "    width_omega = 8.5\n",
    "    \n",
    "    fv_list   = [1.011, -0.881, 0.369]\n",
    "    \n",
    "    for i in range(len(fv_list)):\n",
    "        form_factor += (fv_list[i]*m_omega**2)/(m_omega**2-m_a**2-(m_omega*width_omega*1j))\n",
    "    \n",
    "    return np.real(form_factor * np.conj(form_factor))"
   ]
  },
  {
   "cell_type": "code",
   "execution_count": 12,
   "metadata": {},
   "outputs": [],
   "source": [
    "# get the elastic pp cross section from the data and interpolate\n",
    "pp_el_xsec_data = np.genfromtxt('pp_inelastic_xsec.csv', delimiter=',').T\n",
    "pp_el_xsec      = interp1d(pp_el_xsec_data[0], pp_el_xsec_data[1], kind='cubic')"
   ]
  },
  {
   "cell_type": "code",
   "execution_count": 29,
   "metadata": {
    "scrolled": true
   },
   "outputs": [],
   "source": [
    "def calculate_n_expected(m_a, epsilon, lumi, L1, L2, theta_max):\n",
    "\n",
    "    data        = []\n",
    "    dpt         = 0.1\n",
    "    dtheta      = 1.0e-4\n",
    "    pt_range    = np.arange(0.01, 20.0, dpt)\n",
    "    theta_range = np.arange(0.1e-3, 10e-3, dtheta)\n",
    "    m_p         = 0.938 # GeV\n",
    "\n",
    "    form_factor_2 = form_factor(m_a)\n",
    "\n",
    "    for pt in pt_range:\n",
    "    \n",
    "        for theta in theta_range:\n",
    "        \n",
    "            p      = pt / np.sin(theta)\n",
    "            dp     = dpt / np.sin(theta)\n",
    "            E_a    = (m_a**2 + p**2)**0.5\n",
    "            dz     = dp * np.cos(theta) / m_p\n",
    "        \n",
    "            dsigma = form_factor_2 * pp_el_xsec(sqrt_s_prime(theta, pt, m_a))\\\n",
    "                     * w_z(theta, pt, m_a, epsilon) * get_decay_prob(theta, pt, m_a, epsilon, L1, L2, 1)\\\n",
    "                     * 2 * pt * dpt * dz\n",
    "                \n",
    "            condition_1 = (q_min(theta, pt, m_a)**2 < 250**2)\n",
    "            condition_2 = (not np.isnan(dsigma))\n",
    "            condition_3 = (E_a > 100 and E_a < 13000)\n",
    "        \n",
    "            if  condition_1 and condition_2 and condition_3 :\n",
    "                data.append(np.array([theta, theta+dtheta, p, p+dp, dsigma]))\n",
    "\n",
    "    data = np.asarray(data)\n",
    "    mask = data[:, 1] < theta_max\n",
    "\n",
    "    return lumi*np.sum(data[:,4][mask])"
   ]
  },
  {
   "cell_type": "code",
   "execution_count": 31,
   "metadata": {},
   "outputs": [
    {
     "name": "stderr",
     "output_type": "stream",
     "text": [
      "<ipython-input-10-920fc55eda32>:38: RuntimeWarning: invalid value encountered in double_scalars\n",
      "  return (2 * m_p * (E_p - E_a))**0.5\n"
     ]
    },
    {
     "data": {
      "text/plain": [
       "90.4354625657429"
      ]
     },
     "execution_count": 31,
     "metadata": {},
     "output_type": "execute_result"
    }
   ],
   "source": [
    "calculate_n_expected(1.0e-1, 1.0e-5, 3.0e+9, 400, 410, 0.5e-3)"
   ]
  },
  {
   "cell_type": "code",
   "execution_count": 7,
   "metadata": {},
   "outputs": [],
   "source": [
    "#df = calculate_n_expected(3.0e-1, 3.0e-6, 3.0e+9)\n",
    "#np.savetxt(\"dark_photon_bremsstrahlung_data.csv\", data, delimiter=\",\",fmt=\"%.4e\", header= \"\\\n",
    "#pp-> p+A+X bremsstrahlung cross sections by FWW approximation\\n \\\n",
    "#p and theta values given below belong to A (dark photon)\\n \\\n",
    "#theta_min,theta_max,p_min[GeV],p_max[GeV],xsec[pb]\")"
   ]
  },
  {
   "cell_type": "code",
   "execution_count": 8,
   "metadata": {},
   "outputs": [],
   "source": [
    "#df = pd.read_csv(\"dark_photon_bremsstrahlung_data.csv\", skiprows=2)"
   ]
  }
 ],
 "metadata": {
  "kernelspec": {
   "display_name": "Python 3",
   "language": "python",
   "name": "python3"
  },
  "language_info": {
   "codemirror_mode": {
    "name": "ipython",
    "version": 3
   },
   "file_extension": ".py",
   "mimetype": "text/x-python",
   "name": "python",
   "nbconvert_exporter": "python",
   "pygments_lexer": "ipython3",
   "version": "3.9.0"
  }
 },
 "nbformat": 4,
 "nbformat_minor": 4
}
